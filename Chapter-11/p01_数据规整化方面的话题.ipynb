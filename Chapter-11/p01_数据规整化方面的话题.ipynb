{
 "cells": [
  {
   "cell_type": "code",
   "execution_count": 1,
   "metadata": {
    "collapsed": true
   },
   "outputs": [],
   "source": [
    "# 数据规整化方面的话题、\n",
    "import numpy as np\n",
    "import pandas as pd\n",
    "from datetime import time\n",
    "from pandas import DataFrame,Series"
   ]
  },
  {
   "cell_type": "code",
   "execution_count": 2,
   "metadata": {
    "collapsed": true
   },
   "outputs": [],
   "source": [
    "# 时间序列以及截面对齐"
   ]
  },
  {
   "cell_type": "code",
   "execution_count": 3,
   "metadata": {},
   "outputs": [
    {
     "name": "stdout",
     "output_type": "stream",
     "text": [
      "            AAPL  MSFT   XOM    IBM     SPX\n",
      "1990-02-01  7.86  0.51  6.12  16.79  328.79\n",
      "1990-02-02  8.00  0.51  6.24  16.89  330.92\n",
      "1990-02-05  8.18  0.51  6.25  17.32  331.85\n",
      "1990-02-06  8.12  0.51  6.23  17.56  329.66\n",
      "1990-02-07  7.77  0.51  6.33  17.93  333.75\n",
      "              AAPL   MSFT    XOM     IBM      SPX\n",
      "2011-10-10  388.81  26.94  76.28  186.62  1194.89\n",
      "2011-10-11  400.29  27.00  76.27  185.00  1195.54\n",
      "2011-10-12  402.19  26.96  77.16  186.12  1207.25\n",
      "2011-10-13  408.43  27.18  76.37  186.82  1203.66\n",
      "2011-10-14  422.00  27.27  78.11  190.53  1224.58\n"
     ]
    }
   ],
   "source": [
    "close_px_all = pd.read_csv('../dataset/stock_px.csv',\n",
    "                           parse_dates=True,index_col=0)\n",
    "close_px = close_px_all[['AAPL','MSFT','XOM','IBM','SPX']]\n",
    "print(close_px.head())\n",
    "print(close_px.tail())"
   ]
  },
  {
   "cell_type": "code",
   "execution_count": 6,
   "metadata": {},
   "outputs": [
    {
     "data": {
      "text/html": [
       "<div>\n",
       "<style>\n",
       "    .dataframe thead tr:only-child th {\n",
       "        text-align: right;\n",
       "    }\n",
       "\n",
       "    .dataframe thead th {\n",
       "        text-align: left;\n",
       "    }\n",
       "\n",
       "    .dataframe tbody tr th {\n",
       "        vertical-align: top;\n",
       "    }\n",
       "</style>\n",
       "<table border=\"1\" class=\"dataframe\">\n",
       "  <thead>\n",
       "    <tr style=\"text-align: right;\">\n",
       "      <th></th>\n",
       "      <th>AAPL</th>\n",
       "      <th>MSFT</th>\n",
       "      <th>XOM</th>\n",
       "      <th>SPX</th>\n",
       "    </tr>\n",
       "  </thead>\n",
       "  <tbody>\n",
       "    <tr>\n",
       "      <th>1990-02-01</th>\n",
       "      <td>4193200.0</td>\n",
       "      <td>89193600.0</td>\n",
       "      <td>2916400.0</td>\n",
       "      <td>154580000.0</td>\n",
       "    </tr>\n",
       "    <tr>\n",
       "      <th>1990-02-02</th>\n",
       "      <td>4248800.0</td>\n",
       "      <td>71395200.0</td>\n",
       "      <td>4250000.0</td>\n",
       "      <td>164400000.0</td>\n",
       "    </tr>\n",
       "    <tr>\n",
       "      <th>1990-02-05</th>\n",
       "      <td>3653200.0</td>\n",
       "      <td>59731200.0</td>\n",
       "      <td>5880800.0</td>\n",
       "      <td>130950000.0</td>\n",
       "    </tr>\n",
       "    <tr>\n",
       "      <th>1990-02-06</th>\n",
       "      <td>2640000.0</td>\n",
       "      <td>81964800.0</td>\n",
       "      <td>4750800.0</td>\n",
       "      <td>134070000.0</td>\n",
       "    </tr>\n",
       "    <tr>\n",
       "      <th>1990-02-07</th>\n",
       "      <td>11180800.0</td>\n",
       "      <td>134150400.0</td>\n",
       "      <td>4124800.0</td>\n",
       "      <td>186710000.0</td>\n",
       "    </tr>\n",
       "  </tbody>\n",
       "</table>\n",
       "</div>"
      ],
      "text/plain": [
       "                  AAPL         MSFT        XOM          SPX\n",
       "1990-02-01   4193200.0   89193600.0  2916400.0  154580000.0\n",
       "1990-02-02   4248800.0   71395200.0  4250000.0  164400000.0\n",
       "1990-02-05   3653200.0   59731200.0  5880800.0  130950000.0\n",
       "1990-02-06   2640000.0   81964800.0  4750800.0  134070000.0\n",
       "1990-02-07  11180800.0  134150400.0  4124800.0  186710000.0"
      ]
     },
     "execution_count": 6,
     "metadata": {},
     "output_type": "execute_result"
    }
   ],
   "source": [
    "volume_all = pd.read_csv('../dataset/volume.csv',parse_dates=True,index_col=0)\n",
    "volume = volume_all[['AAPL','MSFT','XOM','SPX']]\n",
    "volume.head()"
   ]
  },
  {
   "cell_type": "code",
   "execution_count": 7,
   "metadata": {},
   "outputs": [
    {
     "data": {
      "text/html": [
       "<div>\n",
       "<style>\n",
       "    .dataframe thead tr:only-child th {\n",
       "        text-align: right;\n",
       "    }\n",
       "\n",
       "    .dataframe thead th {\n",
       "        text-align: left;\n",
       "    }\n",
       "\n",
       "    .dataframe tbody tr th {\n",
       "        vertical-align: top;\n",
       "    }\n",
       "</style>\n",
       "<table border=\"1\" class=\"dataframe\">\n",
       "  <thead>\n",
       "    <tr style=\"text-align: right;\">\n",
       "      <th></th>\n",
       "      <th>AAPL</th>\n",
       "      <th>IBM</th>\n",
       "      <th>MSFT</th>\n",
       "      <th>SPX</th>\n",
       "      <th>XOM</th>\n",
       "    </tr>\n",
       "  </thead>\n",
       "  <tbody>\n",
       "    <tr>\n",
       "      <th>1990-02-01</th>\n",
       "      <td>32958552.0</td>\n",
       "      <td>NaN</td>\n",
       "      <td>45488736.0</td>\n",
       "      <td>5.082436e+10</td>\n",
       "      <td>17848368.0</td>\n",
       "    </tr>\n",
       "    <tr>\n",
       "      <th>1990-02-02</th>\n",
       "      <td>33990400.0</td>\n",
       "      <td>NaN</td>\n",
       "      <td>36411552.0</td>\n",
       "      <td>5.440325e+10</td>\n",
       "      <td>26520000.0</td>\n",
       "    </tr>\n",
       "    <tr>\n",
       "      <th>1990-02-05</th>\n",
       "      <td>29883176.0</td>\n",
       "      <td>NaN</td>\n",
       "      <td>30462912.0</td>\n",
       "      <td>4.345576e+10</td>\n",
       "      <td>36755000.0</td>\n",
       "    </tr>\n",
       "    <tr>\n",
       "      <th>1990-02-06</th>\n",
       "      <td>21436800.0</td>\n",
       "      <td>NaN</td>\n",
       "      <td>41802048.0</td>\n",
       "      <td>4.419752e+10</td>\n",
       "      <td>29597484.0</td>\n",
       "    </tr>\n",
       "    <tr>\n",
       "      <th>1990-02-07</th>\n",
       "      <td>86874816.0</td>\n",
       "      <td>NaN</td>\n",
       "      <td>68416704.0</td>\n",
       "      <td>6.231446e+10</td>\n",
       "      <td>26109984.0</td>\n",
       "    </tr>\n",
       "  </tbody>\n",
       "</table>\n",
       "</div>"
      ],
      "text/plain": [
       "                  AAPL  IBM        MSFT           SPX         XOM\n",
       "1990-02-01  32958552.0  NaN  45488736.0  5.082436e+10  17848368.0\n",
       "1990-02-02  33990400.0  NaN  36411552.0  5.440325e+10  26520000.0\n",
       "1990-02-05  29883176.0  NaN  30462912.0  4.345576e+10  36755000.0\n",
       "1990-02-06  21436800.0  NaN  41802048.0  4.419752e+10  29597484.0\n",
       "1990-02-07  86874816.0  NaN  68416704.0  6.231446e+10  26109984.0"
      ]
     },
     "execution_count": 7,
     "metadata": {},
     "output_type": "execute_result"
    }
   ],
   "source": [
    "# 自动匹配对应位置，计算当天成交总额，IBM没有就填充NaN\n",
    "(close_px * volume).head()"
   ]
  },
  {
   "cell_type": "code",
   "execution_count": 10,
   "metadata": {},
   "outputs": [
    {
     "data": {
      "text/plain": [
       "AAPL      81.246271\n",
       "IBM             NaN\n",
       "MSFT      16.923765\n",
       "SPX     1134.418556\n",
       "XOM       50.520303\n",
       "dtype: float64"
      ]
     },
     "execution_count": 10,
     "metadata": {},
     "output_type": "execute_result"
    }
   ],
   "source": [
    "vwap = (close_px * volume).sum()/volume.sum()\n",
    "vwap"
   ]
  },
  {
   "cell_type": "code",
   "execution_count": 11,
   "metadata": {},
   "outputs": [
    {
     "data": {
      "text/plain": [
       "AAPL      81.246271\n",
       "MSFT      16.923765\n",
       "SPX     1134.418556\n",
       "XOM       50.520303\n",
       "dtype: float64"
      ]
     },
     "execution_count": 11,
     "metadata": {},
     "output_type": "execute_result"
    }
   ],
   "source": [
    "vwap.dropna()"
   ]
  },
  {
   "cell_type": "code",
   "execution_count": 13,
   "metadata": {},
   "outputs": [
    {
     "name": "stdout",
     "output_type": "stream",
     "text": [
      "            AAPL  MSFT   XOM     SPX\n",
      "1990-02-01  7.86  0.51  6.12  328.79\n",
      "1990-02-02  8.00  0.51  6.24  330.92\n",
      "1990-02-05  8.18  0.51  6.25  331.85\n",
      "1990-02-06  8.12  0.51  6.23  329.66\n",
      "1990-02-07  7.77  0.51  6.33  333.75\n",
      "1990-02-08  7.71  0.51  6.35  332.96\n",
      "1990-02-09  8.00  0.52  6.37  333.62\n",
      "1990-02-12  7.94  0.52  6.22  330.08\n",
      "1990-02-13  8.06  0.52  6.23  331.02\n",
      "1990-02-14  8.00  0.52  6.20  332.01\n",
      "                  AAPL         MSFT        XOM          SPX\n",
      "1990-02-01   4193200.0   89193600.0  2916400.0  154580000.0\n",
      "1990-02-02   4248800.0   71395200.0  4250000.0  164400000.0\n",
      "1990-02-05   3653200.0   59731200.0  5880800.0  130950000.0\n",
      "1990-02-06   2640000.0   81964800.0  4750800.0  134070000.0\n",
      "1990-02-07  11180800.0  134150400.0  4124800.0  186710000.0\n",
      "1990-02-08   6680000.0   95225600.0  5651200.0  176240000.0\n",
      "1990-02-09   6004400.0   62380800.0  3384800.0  146910000.0\n",
      "1990-02-12   2695600.0   56086400.0  2698000.0  118390000.0\n",
      "1990-02-13   3653600.0   58752000.0  3564800.0  144490000.0\n",
      "1990-02-14   3448000.0   35868800.0  2830000.0  138530000.0\n"
     ]
    }
   ],
   "source": [
    "# 返回与volume对齐的元组\n",
    "tp = close_px.align(volume,join='inner')\n",
    "print(tp[0][:10])\n",
    "print(tp[1][:10])"
   ]
  },
  {
   "cell_type": "code",
   "execution_count": 14,
   "metadata": {},
   "outputs": [
    {
     "data": {
      "text/html": [
       "<div>\n",
       "<style>\n",
       "    .dataframe thead tr:only-child th {\n",
       "        text-align: right;\n",
       "    }\n",
       "\n",
       "    .dataframe thead th {\n",
       "        text-align: left;\n",
       "    }\n",
       "\n",
       "    .dataframe tbody tr th {\n",
       "        vertical-align: top;\n",
       "    }\n",
       "</style>\n",
       "<table border=\"1\" class=\"dataframe\">\n",
       "  <thead>\n",
       "    <tr style=\"text-align: right;\">\n",
       "      <th></th>\n",
       "      <th>one</th>\n",
       "      <th>three</th>\n",
       "      <th>two</th>\n",
       "    </tr>\n",
       "  </thead>\n",
       "  <tbody>\n",
       "    <tr>\n",
       "      <th>a</th>\n",
       "      <td>0.0</td>\n",
       "      <td>1.0</td>\n",
       "      <td>NaN</td>\n",
       "    </tr>\n",
       "    <tr>\n",
       "      <th>b</th>\n",
       "      <td>1.0</td>\n",
       "      <td>NaN</td>\n",
       "      <td>1.0</td>\n",
       "    </tr>\n",
       "    <tr>\n",
       "      <th>c</th>\n",
       "      <td>2.0</td>\n",
       "      <td>2.0</td>\n",
       "      <td>2.0</td>\n",
       "    </tr>\n",
       "    <tr>\n",
       "      <th>d</th>\n",
       "      <td>NaN</td>\n",
       "      <td>NaN</td>\n",
       "      <td>0.0</td>\n",
       "    </tr>\n",
       "    <tr>\n",
       "      <th>e</th>\n",
       "      <td>NaN</td>\n",
       "      <td>NaN</td>\n",
       "      <td>3.0</td>\n",
       "    </tr>\n",
       "    <tr>\n",
       "      <th>f</th>\n",
       "      <td>NaN</td>\n",
       "      <td>0.0</td>\n",
       "      <td>NaN</td>\n",
       "    </tr>\n",
       "  </tbody>\n",
       "</table>\n",
       "</div>"
      ],
      "text/plain": [
       "   one  three  two\n",
       "a  0.0    1.0  NaN\n",
       "b  1.0    NaN  1.0\n",
       "c  2.0    2.0  2.0\n",
       "d  NaN    NaN  0.0\n",
       "e  NaN    NaN  3.0\n",
       "f  NaN    0.0  NaN"
      ]
     },
     "execution_count": 14,
     "metadata": {},
     "output_type": "execute_result"
    }
   ],
   "source": [
    "s1 = Series(range(3),index=['a','b','c'])\n",
    "s2 = Series(range(4),index=['d','b','c','e'])\n",
    "s3 = Series(range(3),index=['f','a','c'])\n",
    "df = DataFrame({'one':s1,'two':s2,'three':s3})\n",
    "df"
   ]
  },
  {
   "cell_type": "code",
   "execution_count": 15,
   "metadata": {},
   "outputs": [
    {
     "data": {
      "text/html": [
       "<div>\n",
       "<style>\n",
       "    .dataframe thead tr:only-child th {\n",
       "        text-align: right;\n",
       "    }\n",
       "\n",
       "    .dataframe thead th {\n",
       "        text-align: left;\n",
       "    }\n",
       "\n",
       "    .dataframe tbody tr th {\n",
       "        vertical-align: top;\n",
       "    }\n",
       "</style>\n",
       "<table border=\"1\" class=\"dataframe\">\n",
       "  <thead>\n",
       "    <tr style=\"text-align: right;\">\n",
       "      <th></th>\n",
       "      <th>one</th>\n",
       "      <th>three</th>\n",
       "      <th>two</th>\n",
       "    </tr>\n",
       "  </thead>\n",
       "  <tbody>\n",
       "    <tr>\n",
       "      <th>f</th>\n",
       "      <td>NaN</td>\n",
       "      <td>0.0</td>\n",
       "      <td>NaN</td>\n",
       "    </tr>\n",
       "    <tr>\n",
       "      <th>a</th>\n",
       "      <td>0.0</td>\n",
       "      <td>1.0</td>\n",
       "      <td>NaN</td>\n",
       "    </tr>\n",
       "    <tr>\n",
       "      <th>c</th>\n",
       "      <td>2.0</td>\n",
       "      <td>2.0</td>\n",
       "      <td>2.0</td>\n",
       "    </tr>\n",
       "    <tr>\n",
       "      <th>e</th>\n",
       "      <td>NaN</td>\n",
       "      <td>NaN</td>\n",
       "      <td>3.0</td>\n",
       "    </tr>\n",
       "  </tbody>\n",
       "</table>\n",
       "</div>"
      ],
      "text/plain": [
       "   one  three  two\n",
       "f  NaN    0.0  NaN\n",
       "a  0.0    1.0  NaN\n",
       "c  2.0    2.0  2.0\n",
       "e  NaN    NaN  3.0"
      ]
     },
     "execution_count": 15,
     "metadata": {},
     "output_type": "execute_result"
    }
   ],
   "source": [
    "# 显示定义索引对齐\n",
    "df = DataFrame({'one':s1,'two':s2,'three':s3},index=list('face'))\n",
    "df"
   ]
  },
  {
   "cell_type": "code",
   "execution_count": 17,
   "metadata": {},
   "outputs": [
    {
     "data": {
      "text/plain": [
       "2010-01-06   -0.163131\n",
       "2010-01-13    0.917628\n",
       "2010-01-20   -0.367708\n",
       "Freq: W-WED, dtype: float64"
      ]
     },
     "execution_count": 17,
     "metadata": {},
     "output_type": "execute_result"
    }
   ],
   "source": [
    "# 频率不同的时间序列的运算\n",
    "ts1 = Series(np.random.randn(3),\n",
    "            index=pd.date_range('1/1/2010',periods=3,freq='W-WED'))\n",
    "ts1"
   ]
  },
  {
   "cell_type": "code",
   "execution_count": 18,
   "metadata": {},
   "outputs": [
    {
     "data": {
      "text/plain": [
       "2010-01-06   -0.163131\n",
       "2010-01-07   -0.163131\n",
       "2010-01-08   -0.163131\n",
       "2010-01-11   -0.163131\n",
       "2010-01-12   -0.163131\n",
       "2010-01-13    0.917628\n",
       "2010-01-14    0.917628\n",
       "2010-01-15    0.917628\n",
       "2010-01-18    0.917628\n",
       "2010-01-19    0.917628\n",
       "2010-01-20   -0.367708\n",
       "Freq: B, dtype: float64"
      ]
     },
     "execution_count": 18,
     "metadata": {},
     "output_type": "execute_result"
    }
   ],
   "source": [
    "# 重新采样，如果没有pad，就需要用ts1.iteritems()遍历访问\n",
    "ts1 = ts1.resample('B').pad()\n",
    "ts1"
   ]
  },
  {
   "cell_type": "code",
   "execution_count": 22,
   "metadata": {},
   "outputs": [
    {
     "data": {
      "text/plain": [
       "2010-01-12    0.775710\n",
       "2010-01-17    1.407569\n",
       "2010-01-18    0.512900\n",
       "2010-01-21   -0.974523\n",
       "2010-01-22   -0.793771\n",
       "2010-01-29    1.551354\n",
       "dtype: float64"
      ]
     },
     "execution_count": 22,
     "metadata": {},
     "output_type": "execute_result"
    }
   ],
   "source": [
    "dates = pd.DatetimeIndex(['2010-1-12',\n",
    "                         '2010-1-17',\n",
    "                         '2010-1-18',\n",
    "                          '2010-1-21',\n",
    "                          '2010-1-22',\n",
    "                          '2010-1-29'])\n",
    "ts2 = Series(np.random.randn(6),index=dates)\n",
    "ts2"
   ]
  },
  {
   "cell_type": "code",
   "execution_count": 24,
   "metadata": {},
   "outputs": [
    {
     "data": {
      "text/plain": [
       "2010-01-12    0.612579\n",
       "2010-01-17    2.325197\n",
       "2010-01-18    1.430528\n",
       "2010-01-21   -1.342231\n",
       "2010-01-22   -1.161479\n",
       "2010-01-29    1.183646\n",
       "dtype: float64"
      ]
     },
     "execution_count": 24,
     "metadata": {},
     "output_type": "execute_result"
    }
   ],
   "source": [
    "# ts1 的索引先和ts2对齐，然后相加\n",
    "ts2 + ts1.reindex(ts2.index,method='ffill')"
   ]
  },
  {
   "cell_type": "code",
   "execution_count": 25,
   "metadata": {},
   "outputs": [
    {
     "data": {
      "text/plain": [
       "1984Q2    1.78\n",
       "1984Q3    1.94\n",
       "1984Q4    2.08\n",
       "1985Q1    2.01\n",
       "1985Q2    2.15\n",
       "1985Q3    2.31\n",
       "1985Q4    2.46\n",
       "Freq: Q-SEP, dtype: float64"
      ]
     },
     "execution_count": 25,
     "metadata": {},
     "output_type": "execute_result"
    }
   ],
   "source": [
    "# 使用Period\n",
    "gdp = Series([1.78, 1.94, 2.08, 2.01, 2.15, 2.31, 2.46],\n",
    "            index=pd.period_range('1984Q2',periods=7,freq='Q-SEP'))\n",
    "gdp"
   ]
  },
  {
   "cell_type": "code",
   "execution_count": 26,
   "metadata": {},
   "outputs": [
    {
     "data": {
      "text/plain": [
       "DatetimeIndex(['1984-01-01', '1984-04-01', '1984-07-01', '1984-10-01',\n",
       "               '1985-01-01', '1985-04-01', '1985-07-01'],\n",
       "              dtype='datetime64[ns]', freq='QS-OCT')"
      ]
     },
     "execution_count": 26,
     "metadata": {},
     "output_type": "execute_result"
    }
   ],
   "source": [
    "gdp.index.start_time"
   ]
  },
  {
   "cell_type": "code",
   "execution_count": 27,
   "metadata": {},
   "outputs": [
    {
     "data": {
      "text/plain": [
       "1982    0.025\n",
       "1983    0.045\n",
       "1984    0.037\n",
       "1985    0.040\n",
       "Freq: A-DEC, dtype: float64"
      ]
     },
     "execution_count": 27,
     "metadata": {},
     "output_type": "execute_result"
    }
   ],
   "source": [
    "inf1 = Series([0.025,0.045,0.037,0.04],\n",
    "              index=pd.period_range('1982',periods=4,freq='A-DEC'))\n",
    "inf1"
   ]
  },
  {
   "cell_type": "code",
   "execution_count": 28,
   "metadata": {},
   "outputs": [
    {
     "data": {
      "text/plain": [
       "DatetimeIndex(['1982-01-01', '1983-01-01', '1984-01-01', '1985-01-01'], dtype='datetime64[ns]', freq='AS-JAN')"
      ]
     },
     "execution_count": 28,
     "metadata": {},
     "output_type": "execute_result"
    }
   ],
   "source": [
    "inf1.index.start_time"
   ]
  },
  {
   "cell_type": "code",
   "execution_count": 33,
   "metadata": {},
   "outputs": [
    {
     "data": {
      "text/plain": [
       "1983Q1    0.025\n",
       "1984Q1    0.045\n",
       "1985Q1    0.037\n",
       "1986Q1    0.040\n",
       "Freq: Q-SEP, dtype: float64"
      ]
     },
     "execution_count": 33,
     "metadata": {},
     "output_type": "execute_result"
    }
   ],
   "source": [
    "# 调整季度\n",
    "inf1_q = inf1.asfreq('Q-SEP',how='end')\n",
    "inf1_q"
   ]
  },
  {
   "cell_type": "code",
   "execution_count": 34,
   "metadata": {},
   "outputs": [
    {
     "data": {
      "text/plain": [
       "DatetimeIndex(['1982-12-31', '1983-12-31', '1984-12-31', '1985-12-31'], dtype='datetime64[ns]', freq='A-DEC')"
      ]
     },
     "execution_count": 34,
     "metadata": {},
     "output_type": "execute_result"
    }
   ],
   "source": [
    "inf1_q.index.end_time"
   ]
  },
  {
   "cell_type": "code",
   "execution_count": 36,
   "metadata": {},
   "outputs": [
    {
     "data": {
      "text/plain": [
       "1982Q2    0.025\n",
       "1983Q2    0.045\n",
       "1984Q2    0.037\n",
       "1985Q2    0.040\n",
       "Freq: Q-SEP, dtype: float64"
      ]
     },
     "execution_count": 36,
     "metadata": {},
     "output_type": "execute_result"
    }
   ],
   "source": [
    "inf1_q_s = inf1.asfreq('Q-SEP',how='start')\n",
    "inf1_q_s"
   ]
  },
  {
   "cell_type": "code",
   "execution_count": 39,
   "metadata": {},
   "outputs": [
    {
     "data": {
      "text/plain": [
       "DatetimeIndex(['1982-01-01', '1983-01-01', '1984-01-01', '1985-01-01'], dtype='datetime64[ns]', freq='AS-JAN')"
      ]
     },
     "execution_count": 39,
     "metadata": {},
     "output_type": "execute_result"
    }
   ],
   "source": [
    "inf1_q_s.index.start_time"
   ]
  },
  {
   "cell_type": "code",
   "execution_count": 35,
   "metadata": {},
   "outputs": [
    {
     "data": {
      "text/plain": [
       "1984Q2    0.045\n",
       "1984Q3    0.045\n",
       "1984Q4    0.045\n",
       "1985Q1    0.037\n",
       "1985Q2    0.037\n",
       "1985Q3    0.037\n",
       "1985Q4    0.037\n",
       "Freq: Q-SEP, dtype: float64"
      ]
     },
     "execution_count": 35,
     "metadata": {},
     "output_type": "execute_result"
    }
   ],
   "source": [
    "# 索引匹配并且填充缺失值\n",
    "inf1_q.reindex(gdp.index,method='ffill')"
   ]
  },
  {
   "cell_type": "code",
   "execution_count": 37,
   "metadata": {},
   "outputs": [
    {
     "data": {
      "text/plain": [
       "1984Q2    0.037\n",
       "1984Q3    0.037\n",
       "1984Q4    0.037\n",
       "1985Q1    0.037\n",
       "1985Q2    0.040\n",
       "1985Q3    0.040\n",
       "1985Q4    0.040\n",
       "Freq: Q-SEP, dtype: float64"
      ]
     },
     "execution_count": 37,
     "metadata": {},
     "output_type": "execute_result"
    }
   ],
   "source": [
    "inf1_q_s.reindex(gdp.index,method='ffill')"
   ]
  },
  {
   "cell_type": "code",
   "execution_count": 42,
   "metadata": {},
   "outputs": [
    {
     "name": "stdout",
     "output_type": "stream",
     "text": [
      "2012-06-01 09:30:00    0.0\n",
      "2012-06-01 09:31:00    1.0\n",
      "2012-06-01 09:32:00    2.0\n",
      "2012-06-01 09:33:00    3.0\n",
      "2012-06-01 09:34:00    4.0\n",
      "dtype: float64\n",
      "2012-06-06 15:55:00    1555.0\n",
      "2012-06-06 15:56:00    1556.0\n",
      "2012-06-06 15:57:00    1557.0\n",
      "2012-06-06 15:58:00    1558.0\n",
      "2012-06-06 15:59:00    1559.0\n",
      "dtype: float64\n"
     ]
    }
   ],
   "source": [
    "# 时间和“最当前”数据选取\n",
    "# 交易时段按分钟采样\n",
    "rng = pd.date_range('2012-06-01 09:30', '2012-06-01 15:59',freq='T')\n",
    "# 再补4天 BDay  工作日\n",
    "rng = rng.append([rng + pd.offsets.BDay(i) for i in range(1,4)])\n",
    "ts = Series(np.arange(len(rng)),dtype=float,index=rng)\n",
    "print(ts.head())\n",
    "print(ts.tail())"
   ]
  },
  {
   "cell_type": "code",
   "execution_count": 46,
   "metadata": {},
   "outputs": [
    {
     "data": {
      "text/plain": [
       "2012-06-01 10:00:00      30.0\n",
       "2012-06-04 10:00:00     420.0\n",
       "2012-06-05 10:00:00     810.0\n",
       "2012-06-06 10:00:00    1200.0\n",
       "dtype: float64"
      ]
     },
     "execution_count": 46,
     "metadata": {},
     "output_type": "execute_result"
    }
   ],
   "source": [
    "# 抽取10点的数据\n",
    "ts[time(10,0)]"
   ]
  },
  {
   "cell_type": "code",
   "execution_count": 48,
   "metadata": {},
   "outputs": [
    {
     "data": {
      "text/plain": [
       "2012-06-01 10:00:00      30.0\n",
       "2012-06-04 10:00:00     420.0\n",
       "2012-06-05 10:00:00     810.0\n",
       "2012-06-06 10:00:00    1200.0\n",
       "dtype: float64"
      ]
     },
     "execution_count": 48,
     "metadata": {},
     "output_type": "execute_result"
    }
   ],
   "source": [
    "ts.at_time(time(10,0))# 和上面等价"
   ]
  },
  {
   "cell_type": "code",
   "execution_count": 49,
   "metadata": {},
   "outputs": [
    {
     "data": {
      "text/plain": [
       "2012-06-01 10:00:00      30.0\n",
       "2012-06-01 10:01:00      31.0\n",
       "2012-06-04 10:00:00     420.0\n",
       "2012-06-04 10:01:00     421.0\n",
       "2012-06-05 10:00:00     810.0\n",
       "2012-06-05 10:01:00     811.0\n",
       "2012-06-06 10:00:00    1200.0\n",
       "2012-06-06 10:01:00    1201.0\n",
       "dtype: float64"
      ]
     },
     "execution_count": 49,
     "metadata": {},
     "output_type": "execute_result"
    }
   ],
   "source": [
    "# 定位时间段\n",
    "ts.between_time(time(10,0),time(10,1))"
   ]
  },
  {
   "cell_type": "code",
   "execution_count": 51,
   "metadata": {},
   "outputs": [
    {
     "data": {
      "text/plain": [
       "array([ 692, 1091,  873, ...,    5,  906,  176])"
      ]
     },
     "execution_count": 51,
     "metadata": {},
     "output_type": "execute_result"
    }
   ],
   "source": [
    "np.random.permutation(1560)"
   ]
  },
  {
   "cell_type": "code",
   "execution_count": 52,
   "metadata": {},
   "outputs": [
    {
     "data": {
      "text/plain": [
       "2012-06-01 09:50:00    20.0\n",
       "2012-06-01 09:51:00    21.0\n",
       "2012-06-01 09:52:00     NaN\n",
       "2012-06-01 09:53:00    23.0\n",
       "2012-06-01 09:54:00     NaN\n",
       "2012-06-01 09:55:00    25.0\n",
       "2012-06-01 09:56:00     NaN\n",
       "2012-06-01 09:57:00     NaN\n",
       "2012-06-01 09:58:00    28.0\n",
       "2012-06-01 09:59:00     NaN\n",
       "2012-06-01 10:00:00    30.0\n",
       "dtype: float64"
      ]
     },
     "execution_count": 52,
     "metadata": {},
     "output_type": "execute_result"
    }
   ],
   "source": [
    "# 根据ts随机选个排列，并选择700条以后的数据排序\n",
    "indexer = np.sort(np.random.permutation(1560)[700:])\n",
    "irr_ts = ts.copy()\n",
    "# 根据随机下标索引把一部分时间点数据设置为NaN\n",
    "irr_ts[indexer] = np.nan\n",
    "irr_ts['2012-06-01 09:50':'2012-06-01 10:00']"
   ]
  },
  {
   "cell_type": "code",
   "execution_count": 53,
   "metadata": {},
   "outputs": [
    {
     "data": {
      "text/plain": [
       "DatetimeIndex(['2012-06-01 10:00:00', '2012-06-04 10:00:00',\n",
       "               '2012-06-05 10:00:00', '2012-06-06 10:00:00'],\n",
       "              dtype='datetime64[ns]', freq='B')"
      ]
     },
     "execution_count": 53,
     "metadata": {},
     "output_type": "execute_result"
    }
   ],
   "source": [
    "selection = pd.date_range('2012-06-01 10:00',periods=4,freq='B')\n",
    "selection"
   ]
  },
  {
   "cell_type": "code",
   "execution_count": 54,
   "metadata": {},
   "outputs": [
    {
     "data": {
      "text/plain": [
       "2012-06-01 10:00:00      30.0\n",
       "2012-06-04 10:00:00     420.0\n",
       "2012-06-05 10:00:00     806.0\n",
       "2012-06-06 10:00:00    1200.0\n",
       "Freq: B, dtype: float64"
      ]
     },
     "execution_count": 54,
     "metadata": {},
     "output_type": "execute_result"
    }
   ],
   "source": [
    "irr_ts.asof(selection)"
   ]
  }
 ],
 "metadata": {
  "kernelspec": {
   "display_name": "Python 3",
   "language": "python",
   "name": "python3"
  },
  "language_info": {
   "codemirror_mode": {
    "name": "ipython",
    "version": 3
   },
   "file_extension": ".py",
   "mimetype": "text/x-python",
   "name": "python",
   "nbconvert_exporter": "python",
   "pygments_lexer": "ipython3",
   "version": "3.6.1"
  }
 },
 "nbformat": 4,
 "nbformat_minor": 2
}

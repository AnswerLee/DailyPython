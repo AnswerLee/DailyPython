{
 "cells": [
  {
   "cell_type": "code",
   "execution_count": 1,
   "metadata": {
    "collapsed": true
   },
   "outputs": [],
   "source": [
    "# 通用函数：快速的元素级数组函数\n",
    "import numpy as np"
   ]
  },
  {
   "cell_type": "code",
   "execution_count": 2,
   "metadata": {},
   "outputs": [
    {
     "data": {
      "text/plain": [
       "array([0.        , 1.        , 1.41421356, 1.73205081, 2.        ,\n",
       "       2.23606798, 2.44948974, 2.64575131, 2.82842712, 3.        ])"
      ]
     },
     "execution_count": 2,
     "metadata": {},
     "output_type": "execute_result"
    }
   ],
   "source": [
    "arr = np.arange(10)\n",
    "np.sqrt(arr) # ufunc ,作用在每个元素上"
   ]
  },
  {
   "cell_type": "code",
   "execution_count": 3,
   "metadata": {},
   "outputs": [
    {
     "data": {
      "text/plain": [
       "array([1.00000000e+00, 2.71828183e+00, 7.38905610e+00, 2.00855369e+01,\n",
       "       5.45981500e+01, 1.48413159e+02, 4.03428793e+02, 1.09663316e+03,\n",
       "       2.98095799e+03, 8.10308393e+03])"
      ]
     },
     "execution_count": 3,
     "metadata": {},
     "output_type": "execute_result"
    }
   ],
   "source": [
    "np.exp(arr)"
   ]
  },
  {
   "cell_type": "code",
   "execution_count": 4,
   "metadata": {},
   "outputs": [
    {
     "data": {
      "text/plain": [
       "array([ 0.31113719, -0.48284775,  0.27248627, -0.80411424,  0.09873837,\n",
       "        1.32821214,  0.77762233,  0.64458861])"
      ]
     },
     "execution_count": 4,
     "metadata": {},
     "output_type": "execute_result"
    }
   ],
   "source": [
    "x = np.random.randn(8)\n",
    "y = np.random.randn(8)\n",
    "np.maximum(x,y) # 二元函数，接收2个数组作为参数，并按对应位置进行操作"
   ]
  },
  {
   "cell_type": "code",
   "execution_count": 5,
   "metadata": {},
   "outputs": [
    {
     "name": "stdout",
     "output_type": "stream",
     "text": [
      "[ 4.39347928 -4.62628476  8.46085453 -4.94627966 -3.34844047 -3.27746078\n",
      " -1.01488042]\n"
     ]
    },
    {
     "data": {
      "text/plain": [
       "(array([ 0.39347928, -0.62628476,  0.46085453, -0.94627966, -0.34844047,\n",
       "        -0.27746078, -0.01488042]), array([ 4., -4.,  8., -4., -3., -3., -1.]))"
      ]
     },
     "execution_count": 5,
     "metadata": {},
     "output_type": "execute_result"
    }
   ],
   "source": [
    "arr = np.random.randn(7)*5\n",
    "print(arr)\n",
    "np.modf(arr) # 分别打印小数与整数部分"
   ]
  },
  {
   "cell_type": "markdown",
   "metadata": {},
   "source": [
    "## 一元 ufunc"
   ]
  },
  {
   "cell_type": "code",
   "execution_count": 13,
   "metadata": {},
   "outputs": [
    {
     "name": "stdout",
     "output_type": "stream",
     "text": [
      "[4.39347928 4.62628476 8.46085453 4.94627966 3.34844047 3.27746078\n",
      " 1.01488042]\n",
      "[4.39347928 4.62628476 8.46085453 4.94627966 3.34844047 3.27746078\n",
      " 1.01488042]\n"
     ]
    }
   ],
   "source": [
    "# 一元ufunc\n",
    "# abs/fabs   计算绝对值\n",
    "print(np.abs(arr))\n",
    "print(np.fabs(arr))"
   ]
  },
  {
   "cell_type": "code",
   "execution_count": 14,
   "metadata": {},
   "outputs": [
    {
     "name": "stdout",
     "output_type": "stream",
     "text": [
      "exp [ 1.          2.71828183  7.3890561  20.08553692 54.59815003]\n"
     ]
    }
   ],
   "source": [
    "# sqrt 开平方\n",
    "# square 平方\n",
    "# exp  e的指数\n",
    "arr = np.arange(5)\n",
    "print('exp', np.exp(arr))\n",
    "#log/log10/log2/log1p log1p=log(1+x)   对数函数"
   ]
  },
  {
   "cell_type": "code",
   "execution_count": 17,
   "metadata": {},
   "outputs": [
    {
     "data": {
      "text/plain": [
       "array([-1., -1.,  1., -1.,  1.])"
      ]
     },
     "execution_count": 17,
     "metadata": {},
     "output_type": "execute_result"
    }
   ],
   "source": [
    "# sign  符号函数，返回数值的符号，大于0返回1，等于0返回0，小于0返回-1\n",
    "arr = np.random.randn(5)\n",
    "np.sign(arr)"
   ]
  },
  {
   "cell_type": "code",
   "execution_count": 18,
   "metadata": {},
   "outputs": [
    {
     "name": "stdout",
     "output_type": "stream",
     "text": [
      "arr [ 0.36151637 -2.37118686 -1.31156239  0.01559523 -0.05098488]\n",
      "ceil \t [ 1. -2. -1.  1. -0.]\n",
      "floor \t [ 0. -3. -2.  0. -1.]\n",
      "rint \t [ 0. -2. -1.  0. -0.]\n"
     ]
    }
   ],
   "source": [
    "# ceil 向上取整\n",
    "# floor 向下取整\n",
    "# rint  四舍五入\n",
    "# modf 将数组的小数和整数部分以两个独立的数组的形式返回\n",
    "arr = np.random.randn(5)\n",
    "print('arr', arr)\n",
    "print('ceil \\t', np.ceil(arr))\n",
    "print('floor \\t', np.floor(arr))\n",
    "print('rint \\t', np.rint(arr))"
   ]
  },
  {
   "cell_type": "code",
   "execution_count": 21,
   "metadata": {},
   "outputs": [],
   "source": [
    "# isnan 数组元素是否为空，返回一个boolean型数组\n",
    "# isfinite/isinf  是否是isinf, isneginf, isposinf, isnan/是否是无穷\n",
    "# cos/cosh\n",
    "# sin/sinh\n",
    "# tan/tanh\n",
    "# arrcos/arccosh\n",
    "# arrsin/arcsinh\n",
    "# arrtan/arctanh\n",
    "# logical_not   计算各元素not x的真值，相当于~arr。"
   ]
  },
  {
   "cell_type": "markdown",
   "metadata": {},
   "source": [
    "## 二元ufunc"
   ]
  },
  {
   "cell_type": "code",
   "execution_count": 23,
   "metadata": {},
   "outputs": [
    {
     "name": "stdout",
     "output_type": "stream",
     "text": [
      "arr1 \t [0 1 2 3 4]\n",
      "arr2 \t [ 0.08566676 -0.91097632  0.67708984  0.8356161  -0.460764  ]\n",
      "subtract \t [-0.08566676  1.91097632  1.32291016  2.1643839   4.460764  ]\n"
     ]
    }
   ],
   "source": [
    "# add   加\n",
    "# subtract   减\n",
    "arr1 = np.arange(5)\n",
    "arr2 = np.random.randn(5)\n",
    "print('arr1 \\t',arr1)\n",
    "print('arr2 \\t',arr2)\n",
    "print('subtract \\t', np.subtract(arr1,arr2))#arr1-arr2"
   ]
  },
  {
   "cell_type": "code",
   "execution_count": 24,
   "metadata": {},
   "outputs": [
    {
     "name": "stdout",
     "output_type": "stream",
     "text": [
      "divide \t [11.         10.5        10.33333333 10.25       10.2       ]\n",
      "floor_divide \t [11 10 10 10 10]\n"
     ]
    }
   ],
   "source": [
    "# multiply 乘\n",
    "# divide/floor_divide   除/向下整除\n",
    "arr1 = np.array([1,2,3,4,5])\n",
    "arr2 = np.array([11,21,31,41,51])\n",
    "print('divide \\t', np.divide(arr2,arr1))\n",
    "print('floor_divide \\t', np.floor_divide(arr2,arr1))"
   ]
  },
  {
   "cell_type": "code",
   "execution_count": 26,
   "metadata": {},
   "outputs": [
    {
     "data": {
      "text/plain": [
       "array([ 1,  4,  9, 16, 25], dtype=int32)"
      ]
     },
     "execution_count": 26,
     "metadata": {},
     "output_type": "execute_result"
    }
   ],
   "source": [
    "# power  几次幂\n",
    "np.power(arr1,2)"
   ]
  },
  {
   "cell_type": "code",
   "execution_count": 29,
   "metadata": {},
   "outputs": [
    {
     "name": "stdout",
     "output_type": "stream",
     "text": [
      "mod \t [1 2 1]\n"
     ]
    }
   ],
   "source": [
    "# maximun/fmax\n",
    "# minimum/fmin\n",
    "# mod   取余\n",
    "arr1 = np.array([2,3,4])\n",
    "arr2 = np.array([7,8,9])\n",
    "print('mod \\t',np.mod(arr2,arr1))"
   ]
  },
  {
   "cell_type": "code",
   "execution_count": 31,
   "metadata": {},
   "outputs": [
    {
     "name": "stdout",
     "output_type": "stream",
     "text": [
      "arr1 \t [ 0.05485602  3.71488879 -0.07717368 -0.89080238  0.16984522]\n",
      "arr2 \t [-0.6909973  -1.32930467  2.56231874 -0.37639707  0.12790843]\n"
     ]
    },
    {
     "data": {
      "text/plain": [
       "array([-0.05485602, -3.71488879,  0.07717368, -0.89080238,  0.16984522])"
      ]
     },
     "execution_count": 31,
     "metadata": {},
     "output_type": "execute_result"
    }
   ],
   "source": [
    "# copysign   复制正负号，arr1的符号按照arr2的来变\n",
    "arr1 = np.random.randn(5)\n",
    "print('arr1 \\t', arr1)\n",
    "arr2 = np.random.randn(5)\n",
    "print('arr2 \\t', arr2)\n",
    "np.copysign(arr1,arr2)"
   ]
  },
  {
   "cell_type": "code",
   "execution_count": 36,
   "metadata": {},
   "outputs": [
    {
     "name": "stdout",
     "output_type": "stream",
     "text": [
      "logic_and \t [ True False False]\n",
      "logic_or \t [ True  True False]\n",
      "logic_xor \t [False  True False]\n"
     ]
    }
   ],
   "source": [
    "# greater/greater_equal   大于/大于等于\n",
    "# less/less_equal   小于/小于等于\n",
    "# equal/not_equal   等于/不等于\n",
    "# logic_and/or/xor   逻辑与/或/异或\n",
    "arr1 = np.array([4,0,0])\n",
    "arr2 = np.array([4,3,0])\n",
    "print('logic_and \\t',np.logical_and(arr1,arr2))\n",
    "print('logic_or \\t',np.logical_or(arr1,arr2))\n",
    "print('logic_xor \\t',np.logical_xor(arr1,arr2))"
   ]
  }
 ],
 "metadata": {
  "kernelspec": {
   "display_name": "Python 3",
   "language": "python",
   "name": "python3"
  },
  "language_info": {
   "codemirror_mode": {
    "name": "ipython",
    "version": 3
   },
   "file_extension": ".py",
   "mimetype": "text/x-python",
   "name": "python",
   "nbconvert_exporter": "python",
   "pygments_lexer": "ipython3",
   "version": "3.6.1"
  }
 },
 "nbformat": 4,
 "nbformat_minor": 2
}

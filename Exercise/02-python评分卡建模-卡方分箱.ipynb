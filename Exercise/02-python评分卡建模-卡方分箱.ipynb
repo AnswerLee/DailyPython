{
 "cells": [
  {
   "cell_type": "markdown",
   "metadata": {},
   "source": [
    "**卡方分布**"
   ]
  },
  {
   "cell_type": "markdown",
   "metadata": {},
   "source": [
    "卡方分布(chi-square distribution)是概率统计里常用的一种概率分布，也是统计推断里应该用最广泛的概率分布之一，在假设检验与置信区间的计算中经常能见到卡方分布。"
   ]
  },
  {
   "cell_type": "markdown",
   "metadata": {},
   "source": [
    "卡方分布的定义如下：   \n",
    "若k个独立的随机变量Z1,Z2,...,Zk满足标准正态分布N(0,1),则这k个随机变量的平方和：\n",
    "![卡方公式1](./images/卡方分布公式1.png)   \n",
    "为服从自由度为k的卡方分布，记作：   \n",
    "![卡方公式2](./images/卡方公式2.png)   \n",
    "或者记作   \n",
    "![卡方公式3](./images/卡方公式3.png)"
   ]
  },
  {
   "cell_type": "markdown",
   "metadata": {},
   "source": [
    "**卡方检验**"
   ]
  },
  {
   "cell_type": "markdown",
   "metadata": {},
   "source": [
    "卡方检验是以卡方分布为基础的一种假设检验方法，主要用于分类变量之间的独立性检验。其基本思想是根据样本数据推断**总体的分布与期望分布是否有显著性差异**，或者**推断两个分类变量是否相关或者独立。** \n",
    "一般可以设原假设为：观察频数与期望频数没有差异，或者两个变量相互独立不相关。实际应用中，我们先假设原假设成立，计算出卡方的值，卡方表示观察值与理论值见得偏离程度。"
   ]
  },
  {
   "cell_type": "markdown",
   "metadata": {},
   "source": [
    "**卡方的计算公式**"
   ]
  },
  {
   "cell_type": "markdown",
   "metadata": {},
   "source": [
    "![卡方公式detail](./images/卡方公式detail.png)"
   ]
  },
  {
   "cell_type": "markdown",
   "metadata": {},
   "source": [
    "其中Ai为i水平的观察频数，Ei为i水平的期望频数，n为总频数，pi为i水平的期望频率。i水平的期望频数Ei等于总频数n\\*i水平的期望概率pi，k为单元格数。当n比较大时，χ2统计量近似服从k-1(计算Ei时用到的参数个数)个自由度的卡方分布。   \n",
    "卡方值包含了以下两个信息：   \n",
    "- 实际值与理论值偏差的绝对大小。\n",
    "- 差异程度与理论值的相对大小。"
   ]
  },
  {
   "cell_type": "markdown",
   "metadata": {},
   "source": [
    "上述计算的卡方值服从卡方分布。根据卡方分布，卡方统计量以及自由度，可以确定在原假设成立的情况下获得当前统计量以及更极端情况的概率p。如果p很小，说明观察值与理论指的偏离程度大，应该拒绝假设。否则不能拒绝原假设。"
   ]
  },
  {
   "cell_type": "markdown",
   "metadata": {},
   "source": [
    "**卡方检验示例**"
   ]
  },
  {
   "cell_type": "markdown",
   "metadata": {},
   "source": [
    "某医院对某种病症的患者使用了A、B两种不同的疗法，结果如下，问两种疗法有无差别？"
   ]
  },
  {
   "cell_type": "code",
   "execution_count": 4,
   "metadata": {},
   "outputs": [
    {
     "data": {
      "text/html": [
       "<div>\n",
       "<style>\n",
       "    .dataframe thead tr:only-child th {\n",
       "        text-align: right;\n",
       "    }\n",
       "\n",
       "    .dataframe thead th {\n",
       "        text-align: left;\n",
       "    }\n",
       "\n",
       "    .dataframe tbody tr th {\n",
       "        vertical-align: top;\n",
       "    }\n",
       "</style>\n",
       "<table border=\"1\" class=\"dataframe\">\n",
       "  <thead>\n",
       "    <tr style=\"text-align: right;\">\n",
       "      <th></th>\n",
       "      <th>有效</th>\n",
       "      <th>无效</th>\n",
       "      <th>合计</th>\n",
       "      <th>有效率</th>\n",
       "    </tr>\n",
       "  </thead>\n",
       "  <tbody>\n",
       "    <tr>\n",
       "      <th>A组</th>\n",
       "      <td>19.0</td>\n",
       "      <td>24.0</td>\n",
       "      <td>43.0</td>\n",
       "      <td>44.2</td>\n",
       "    </tr>\n",
       "    <tr>\n",
       "      <th>B组</th>\n",
       "      <td>34.0</td>\n",
       "      <td>10.0</td>\n",
       "      <td>44.0</td>\n",
       "      <td>77.3</td>\n",
       "    </tr>\n",
       "    <tr>\n",
       "      <th>合计</th>\n",
       "      <td>53.0</td>\n",
       "      <td>34.0</td>\n",
       "      <td>87.0</td>\n",
       "      <td>60.9</td>\n",
       "    </tr>\n",
       "  </tbody>\n",
       "</table>\n",
       "</div>"
      ],
      "text/plain": [
       "      有效    无效    合计   有效率\n",
       "A组  19.0  24.0  43.0  44.2\n",
       "B组  34.0  10.0  44.0  77.3\n",
       "合计  53.0  34.0  87.0  60.9"
      ]
     },
     "execution_count": 4,
     "metadata": {},
     "output_type": "execute_result"
    }
   ],
   "source": [
    "import numpy as np\n",
    "import pandas as pd\n",
    "nd_data = np.array([[19,24,43,44.2],[34,10,44,77.3],[53,34,87,60.9]])\n",
    "df = pd.DataFrame(nd_data,index=['A组','B组','合计'],\n",
    "                  columns=['有效','无效','合计','有效率'])\n",
    "df"
   ]
  },
  {
   "cell_type": "code",
   "execution_count": 9,
   "metadata": {},
   "outputs": [
    {
     "data": {
      "text/html": [
       "<div>\n",
       "<style>\n",
       "    .dataframe thead tr:only-child th {\n",
       "        text-align: right;\n",
       "    }\n",
       "\n",
       "    .dataframe thead th {\n",
       "        text-align: left;\n",
       "    }\n",
       "\n",
       "    .dataframe tbody tr th {\n",
       "        vertical-align: top;\n",
       "    }\n",
       "</style>\n",
       "<table border=\"1\" class=\"dataframe\">\n",
       "  <thead>\n",
       "    <tr style=\"text-align: right;\">\n",
       "      <th></th>\n",
       "      <th>有效</th>\n",
       "      <th>无效</th>\n",
       "      <th>合计</th>\n",
       "      <th>有效率</th>\n",
       "      <th>有效期望频数</th>\n",
       "      <th>无效期望频数</th>\n",
       "    </tr>\n",
       "  </thead>\n",
       "  <tbody>\n",
       "    <tr>\n",
       "      <th>A组</th>\n",
       "      <td>19.0</td>\n",
       "      <td>24.0</td>\n",
       "      <td>43.0</td>\n",
       "      <td>44.2</td>\n",
       "      <td>NaN</td>\n",
       "      <td>NaN</td>\n",
       "    </tr>\n",
       "    <tr>\n",
       "      <th>B组</th>\n",
       "      <td>34.0</td>\n",
       "      <td>10.0</td>\n",
       "      <td>44.0</td>\n",
       "      <td>77.3</td>\n",
       "      <td>NaN</td>\n",
       "      <td>NaN</td>\n",
       "    </tr>\n",
       "    <tr>\n",
       "      <th>合计</th>\n",
       "      <td>53.0</td>\n",
       "      <td>34.0</td>\n",
       "      <td>87.0</td>\n",
       "      <td>60.9</td>\n",
       "      <td>NaN</td>\n",
       "      <td>NaN</td>\n",
       "    </tr>\n",
       "  </tbody>\n",
       "</table>\n",
       "</div>"
      ],
      "text/plain": [
       "      有效    无效    合计   有效率  有效期望频数  无效期望频数\n",
       "A组  19.0  24.0  43.0  44.2     NaN     NaN\n",
       "B组  34.0  10.0  44.0  77.3     NaN     NaN\n",
       "合计  53.0  34.0  87.0  60.9     NaN     NaN"
      ]
     },
     "execution_count": 9,
     "metadata": {},
     "output_type": "execute_result"
    }
   ],
   "source": [
    "df['有效期望频数'] = np.nan\n",
    "df['无效期望频数'] = np.nan\n",
    "df"
   ]
  },
  {
   "cell_type": "code",
   "execution_count": 13,
   "metadata": {},
   "outputs": [
    {
     "data": {
      "text/html": [
       "<div>\n",
       "<style>\n",
       "    .dataframe thead tr:only-child th {\n",
       "        text-align: right;\n",
       "    }\n",
       "\n",
       "    .dataframe thead th {\n",
       "        text-align: left;\n",
       "    }\n",
       "\n",
       "    .dataframe tbody tr th {\n",
       "        vertical-align: top;\n",
       "    }\n",
       "</style>\n",
       "<table border=\"1\" class=\"dataframe\">\n",
       "  <thead>\n",
       "    <tr style=\"text-align: right;\">\n",
       "      <th></th>\n",
       "      <th>有效</th>\n",
       "      <th>无效</th>\n",
       "      <th>合计</th>\n",
       "      <th>有效率</th>\n",
       "      <th>有效期望频数</th>\n",
       "      <th>无效期望频数</th>\n",
       "    </tr>\n",
       "  </thead>\n",
       "  <tbody>\n",
       "    <tr>\n",
       "      <th>A组</th>\n",
       "      <td>19.0</td>\n",
       "      <td>24.0</td>\n",
       "      <td>43.0</td>\n",
       "      <td>44.2</td>\n",
       "      <td>26.2</td>\n",
       "      <td>16.8</td>\n",
       "    </tr>\n",
       "    <tr>\n",
       "      <th>B组</th>\n",
       "      <td>34.0</td>\n",
       "      <td>10.0</td>\n",
       "      <td>44.0</td>\n",
       "      <td>77.3</td>\n",
       "      <td>26.8</td>\n",
       "      <td>17.2</td>\n",
       "    </tr>\n",
       "    <tr>\n",
       "      <th>合计</th>\n",
       "      <td>53.0</td>\n",
       "      <td>34.0</td>\n",
       "      <td>87.0</td>\n",
       "      <td>60.9</td>\n",
       "      <td>NaN</td>\n",
       "      <td>NaN</td>\n",
       "    </tr>\n",
       "  </tbody>\n",
       "</table>\n",
       "</div>"
      ],
      "text/plain": [
       "      有效    无效    合计   有效率  有效期望频数  无效期望频数\n",
       "A组  19.0  24.0  43.0  44.2    26.2    16.8\n",
       "B组  34.0  10.0  44.0  77.3    26.8    17.2\n",
       "合计  53.0  34.0  87.0  60.9     NaN     NaN"
      ]
     },
     "execution_count": 13,
     "metadata": {},
     "output_type": "execute_result"
    }
   ],
   "source": [
    "df.loc['A组']['有效期望频数'] = round(43 * 53 / 87,1)\n",
    "df.loc['A组']['无效期望频数'] = round(43 * 34 / 87,1)\n",
    "df.loc['B组']['有效期望频数'] = round(44 * 53 / 87,1)\n",
    "df.loc['B组']['无效期望频数'] = round(44 * 34 / 87,1)\n",
    "df"
   ]
  },
  {
   "cell_type": "markdown",
   "metadata": {},
   "source": [
    "卡方值计算"
   ]
  },
  {
   "cell_type": "code",
   "execution_count": 15,
   "metadata": {},
   "outputs": [
    {
     "data": {
      "text/plain": [
       "10.012622086493804"
      ]
     },
     "execution_count": 15,
     "metadata": {},
     "output_type": "execute_result"
    }
   ],
   "source": [
    "ka_2 = pow(19-26.2,2)/26.2 + pow(34-26.8,2)/26.8\\\n",
    "+ pow(24-16.8,2)/16.8 + pow(10-17.2,2)/17.2\n",
    "ka_2"
   ]
  },
  {
   "cell_type": "markdown",
   "metadata": {},
   "source": [
    "得到卡方值以后，接下来需要查询卡方分布表来判断p值，从而做出接受或拒绝原假设的决定。   \n",
    "首先我们明确自由度的概念：自由度k=(行数-1) * (列数-1)。这里k=1,然后看卡方分布的临界概率表，我们可以用如下代码生成："
   ]
  },
  {
   "cell_type": "code",
   "execution_count": 42,
   "metadata": {},
   "outputs": [
    {
     "data": {
      "text/html": [
       "<div>\n",
       "<style>\n",
       "    .dataframe thead tr:only-child th {\n",
       "        text-align: right;\n",
       "    }\n",
       "\n",
       "    .dataframe thead th {\n",
       "        text-align: left;\n",
       "    }\n",
       "\n",
       "    .dataframe tbody tr th {\n",
       "        vertical-align: top;\n",
       "    }\n",
       "</style>\n",
       "<table border=\"1\" class=\"dataframe\">\n",
       "  <thead>\n",
       "    <tr style=\"text-align: right;\">\n",
       "      <th></th>\n",
       "      <th>0.95</th>\n",
       "      <th>0.9</th>\n",
       "      <th>0.5</th>\n",
       "      <th>0.1</th>\n",
       "      <th>0.05</th>\n",
       "      <th>0.025</th>\n",
       "      <th>0.01</th>\n",
       "      <th>0.005</th>\n",
       "    </tr>\n",
       "  </thead>\n",
       "  <tbody>\n",
       "    <tr>\n",
       "      <th>1</th>\n",
       "      <td>0.004</td>\n",
       "      <td>0.016</td>\n",
       "      <td>0.455</td>\n",
       "      <td>2.706</td>\n",
       "      <td>3.841</td>\n",
       "      <td>5.024</td>\n",
       "      <td>6.635</td>\n",
       "      <td>7.879</td>\n",
       "    </tr>\n",
       "    <tr>\n",
       "      <th>2</th>\n",
       "      <td>0.103</td>\n",
       "      <td>0.211</td>\n",
       "      <td>1.386</td>\n",
       "      <td>4.605</td>\n",
       "      <td>5.991</td>\n",
       "      <td>7.378</td>\n",
       "      <td>9.210</td>\n",
       "      <td>10.597</td>\n",
       "    </tr>\n",
       "    <tr>\n",
       "      <th>3</th>\n",
       "      <td>0.352</td>\n",
       "      <td>0.584</td>\n",
       "      <td>2.366</td>\n",
       "      <td>6.251</td>\n",
       "      <td>7.815</td>\n",
       "      <td>9.348</td>\n",
       "      <td>11.345</td>\n",
       "      <td>12.838</td>\n",
       "    </tr>\n",
       "    <tr>\n",
       "      <th>4</th>\n",
       "      <td>0.711</td>\n",
       "      <td>1.064</td>\n",
       "      <td>3.357</td>\n",
       "      <td>7.779</td>\n",
       "      <td>9.488</td>\n",
       "      <td>11.143</td>\n",
       "      <td>13.277</td>\n",
       "      <td>14.860</td>\n",
       "    </tr>\n",
       "    <tr>\n",
       "      <th>5</th>\n",
       "      <td>1.145</td>\n",
       "      <td>1.610</td>\n",
       "      <td>4.351</td>\n",
       "      <td>9.236</td>\n",
       "      <td>11.070</td>\n",
       "      <td>12.833</td>\n",
       "      <td>15.086</td>\n",
       "      <td>16.750</td>\n",
       "    </tr>\n",
       "  </tbody>\n",
       "</table>\n",
       "</div>"
      ],
      "text/plain": [
       "   0.950  0.900  0.500  0.100   0.050   0.025   0.010   0.005\n",
       "1  0.004  0.016  0.455  2.706   3.841   5.024   6.635   7.879\n",
       "2  0.103  0.211  1.386  4.605   5.991   7.378   9.210  10.597\n",
       "3  0.352  0.584  2.366  6.251   7.815   9.348  11.345  12.838\n",
       "4  0.711  1.064  3.357  7.779   9.488  11.143  13.277  14.860\n",
       "5  1.145  1.610  4.351  9.236  11.070  12.833  15.086  16.750"
      ]
     },
     "execution_count": 42,
     "metadata": {},
     "output_type": "execute_result"
    }
   ],
   "source": [
    "from scipy.stats import chi2\n",
    "import pandas as pd\n",
    "\n",
    "# chi square distribution\n",
    "percents = [0.95,0.90,0.5,0.1,0.05,0.025,0.01,0.005]\n",
    "\n",
    "df = pd.DataFrame(np.array([chi2.isf(percents, i) for i in range(1,30)]),\n",
    "                 index = np.arange(1,30),columns = percents)\n",
    "pd.set_option('precision',3)\n",
    "df.head()"
   ]
  },
  {
   "cell_type": "markdown",
   "metadata": {},
   "source": [
    "查表自由度为1,p=0.05的卡方值为3.841，而此比例卡方值10.01 > 3.841，因为此 p < 0.05，说明原假设在0.05的显著性水平下是可以拒绝的。也就是说原假设不成立。即“两种疗效无差别” 这个假设可以拒绝。"
   ]
  },
  {
   "cell_type": "markdown",
   "metadata": {},
   "source": [
    "**ChiMerge分箱算法**"
   ]
  },
  {
   "cell_type": "markdown",
   "metadata": {},
   "source": [
    "ChiMerge卡方分箱算法由Kerber于1992提出。   \n",
    "它主要包括两个阶段：初始化阶段和自底向上的合并阶段。   \n",
    "- 初始化阶段，首先按照属性值的大小进行排序（对于非连续性，需要先做数值转换，比如转为坏人率，然后排序），然后每个属性值单独作为一组。\n",
    "- 合并阶段：\n",
    "    - 对每一对相邻的组，计算卡方值。\n",
    "    - 根据计算的卡方值，对其中最小的一对邻组合并为一组\n",
    "    - 不断重复（1），（2），直到计算出的卡方值不低于事先设定的阈值，或者分组数达到一定的条件（如最小分组数5，最大分组数8）。\n",
    "    \n",
    "值得注意的是，小编之前发现有的实现方法在合并阶段，计算的并非相邻组的卡方值（只考虑在此两组内的样本，并计算期望频数），因为他们用整体样本来计算此相邻两组的期望频数。"
   ]
  },
  {
   "cell_type": "markdown",
   "metadata": {
    "collapsed": true
   },
   "source": [
    "**卡方值计算**"
   ]
  },
  {
   "cell_type": "markdown",
   "metadata": {},
   "source": [
    "计算卡方值的函数需要输入numpy格式的频数表。对于pandas数据集，只需使用pd.crosstable计算即可，例如变量'总账户数'与目标变量'是否坏客户'的频数表，如下："
   ]
  },
  {
   "cell_type": "code",
   "execution_count": 25,
   "metadata": {},
   "outputs": [
    {
     "data": {
      "text/html": [
       "<div>\n",
       "<style>\n",
       "    .dataframe thead tr:only-child th {\n",
       "        text-align: right;\n",
       "    }\n",
       "\n",
       "    .dataframe thead th {\n",
       "        text-align: left;\n",
       "    }\n",
       "\n",
       "    .dataframe tbody tr th {\n",
       "        vertical-align: top;\n",
       "    }\n",
       "</style>\n",
       "<table border=\"1\" class=\"dataframe\">\n",
       "  <thead>\n",
       "    <tr style=\"text-align: right;\">\n",
       "      <th></th>\n",
       "      <th>good</th>\n",
       "      <th>bad</th>\n",
       "    </tr>\n",
       "    <tr>\n",
       "      <th>account_num</th>\n",
       "      <th></th>\n",
       "      <th></th>\n",
       "    </tr>\n",
       "  </thead>\n",
       "  <tbody>\n",
       "    <tr>\n",
       "      <th>2</th>\n",
       "      <td>3</td>\n",
       "      <td>1</td>\n",
       "    </tr>\n",
       "    <tr>\n",
       "      <th>3</th>\n",
       "      <td>140</td>\n",
       "      <td>42</td>\n",
       "    </tr>\n",
       "    <tr>\n",
       "      <th>4</th>\n",
       "      <td>341</td>\n",
       "      <td>79</td>\n",
       "    </tr>\n",
       "    <tr>\n",
       "      <th>5</th>\n",
       "      <td>462</td>\n",
       "      <td>91</td>\n",
       "    </tr>\n",
       "    <tr>\n",
       "      <th>6</th>\n",
       "      <td>576</td>\n",
       "      <td>108</td>\n",
       "    </tr>\n",
       "    <tr>\n",
       "      <th>7</th>\n",
       "      <td>699</td>\n",
       "      <td>132</td>\n",
       "    </tr>\n",
       "    <tr>\n",
       "      <th>8</th>\n",
       "      <td>834</td>\n",
       "      <td>172</td>\n",
       "    </tr>\n",
       "    <tr>\n",
       "      <th>9</th>\n",
       "      <td>915</td>\n",
       "      <td>166</td>\n",
       "    </tr>\n",
       "    <tr>\n",
       "      <th>10</th>\n",
       "      <td>1007</td>\n",
       "      <td>187</td>\n",
       "    </tr>\n",
       "    <tr>\n",
       "      <th>11</th>\n",
       "      <td>1080</td>\n",
       "      <td>199</td>\n",
       "    </tr>\n",
       "    <tr>\n",
       "      <th>12</th>\n",
       "      <td>1129</td>\n",
       "      <td>198</td>\n",
       "    </tr>\n",
       "  </tbody>\n",
       "</table>\n",
       "</div>"
      ],
      "text/plain": [
       "             good  bad\n",
       "account_num           \n",
       "2               3    1\n",
       "3             140   42\n",
       "4             341   79\n",
       "5             462   91\n",
       "6             576  108\n",
       "7             699  132\n",
       "8             834  172\n",
       "9             915  166\n",
       "10           1007  187\n",
       "11           1080  199\n",
       "12           1129  198"
      ]
     },
     "execution_count": 25,
     "metadata": {},
     "output_type": "execute_result"
    }
   ],
   "source": [
    "import pandas as pd\n",
    "from pandas import DataFrame,Series\n",
    "good_count = DataFrame([3,140,341,462,576,699,834,915,1007,1080,1129],columns=['good'],\n",
    "                    index=range(2,13))\n",
    "good_count.index.name = 'account_num'\n",
    "bad_count = DataFrame([1,42,79,91,108,132,172,166,187,199,198],columns=['bad'],\n",
    "                   index=range(2,13))\n",
    "bad_count.index.name = 'account_num'\n",
    "account_table = pd.merge(good_count,bad_count,left_index=True,right_index=True,how='inner')\n",
    "account_table"
   ]
  },
  {
   "cell_type": "markdown",
   "metadata": {},
   "source": [
    "每一行代表一个区间(组)的频数，如上图第一行表示总账户数在[2,3)这个组内对应的好客户3个，坏客户1个。将频数表转成numpy数组，然后调用函数计算卡方值，计算逻辑如下：   \n",
    "- 计算第i行的总数Ri\n",
    "- 计算第j列的总数Cj\n",
    "- 计算总频数N\n",
    "- 计算第i,j项的期望频数Eij = Ri * Cj / N\n",
    "- 求的每一项中的卡方(Aij - Eij)\\*\\*2/Eij\n",
    "- 由于期望频数Eij有可能是0，此时上一步计算出来的结果无意义，需要清除，不计入最终结果。\n",
    "- 把所有项的卡方相加得到卡方值   "
   ]
  },
  {
   "cell_type": "code",
   "execution_count": 88,
   "metadata": {
    "collapsed": true
   },
   "outputs": [],
   "source": [
    "def chi2_a(arr):\n",
    "    '''\n",
    "    计算卡方值\n",
    "    arr:频数统计表，二维numpy数组\n",
    "    '''\n",
    "    assert(arr.ndim==2)\n",
    "    #计算每行总频数\n",
    "    R_N = arr.sum(axis=1)\n",
    "    #计算每列总频数\n",
    "    C_N = arr.sum(axis=0)\n",
    "    #总频数\n",
    "    N = arr.sum()\n",
    "    # 计算期望频数 C_i * R_j / N\n",
    "    E = np.ones(arr.shape) * C_N / N\n",
    "    E = (E.T * R_N).T\n",
    "    square = (arr-E)**2 /E\n",
    "    # 期望频数为0时，做除数没有意义，不计入卡方值\n",
    "    square[E==0] = 0\n",
    "    #卡方值\n",
    "    v = square.sum()\n",
    "    return v"
   ]
  },
  {
   "cell_type": "code",
   "execution_count": 89,
   "metadata": {},
   "outputs": [
    {
     "data": {
      "text/plain": [
       "12.215820314650935"
      ]
     },
     "execution_count": 89,
     "metadata": {},
     "output_type": "execute_result"
    }
   ],
   "source": [
    "arr = account_table.values\n",
    "chi2_a(arr)"
   ]
  },
  {
   "cell_type": "code",
   "execution_count": 90,
   "metadata": {
    "collapsed": true
   },
   "outputs": [],
   "source": [
    "def chi2_b(dataframe,good_col,bad_col):\n",
    "    df = dataframe.copy()\n",
    "    sub_total = df[good_col] + df[bad_col]\n",
    "    good_total = df[good_col].sum()\n",
    "    bad_total = df[bad_col].sum()\n",
    "    total = good_total + bad_total\n",
    "    df['good_experience'] = sub_total * good_total / total\n",
    "    df['bad_experience'] = sub_total * bad_total / total\n",
    "    chi2_good = df[['good','good_experience']].apply(lambda x:(x[0]-x[1])**2/x[1],axis=1)\n",
    "    chi2_bad = df[['bad','bad_experience']].apply(lambda x:(x[0]-x[1])**2/x[1],axis=1)\n",
    "    return sum(chi2_good) + sum(chi2_bad)"
   ]
  },
  {
   "cell_type": "code",
   "execution_count": 91,
   "metadata": {},
   "outputs": [
    {
     "data": {
      "text/plain": [
       "12.215820314650935"
      ]
     },
     "execution_count": 91,
     "metadata": {},
     "output_type": "execute_result"
    }
   ],
   "source": [
    "chi2_b(account_table,'good','bad')"
   ]
  },
  {
   "cell_type": "markdown",
   "metadata": {},
   "source": [
    "**ChiMerge分箱算法**"
   ]
  },
  {
   "cell_type": "markdown",
   "metadata": {},
   "source": [
    "卡方分箱函数可以根据最大分组数目和卡方阈值来控制最终的分箱数。  \n",
    "如果调用时既没有设置最大分组数，也没有指定阈值，那么函数会自动使用95%的置信度设置阈值。   \n",
    "分箱逻辑是：\n",
    "- 初始时，所有变量值都自成一组，统计频数。\n",
    "- 然后按照各组起始值从小到大，依次扫描，取出两组拼成计算卡方值。如果当前计算出的卡方值小于已观察到的最小卡方值，则标记当前坐标，并更新已观察最小卡方值为当前值。\n",
    "- 扫描一遍后，如果当前分组数大于最大分组数，或者最小卡方值小于阈值，就将最小卡方值对应的两组频数合并，区间也合并。并回第2步执行。否则，停止合并。输出当前各组的区间切分点。"
   ]
  },
  {
   "cell_type": "code",
   "execution_count": 92,
   "metadata": {},
   "outputs": [
    {
     "data": {
      "text/html": [
       "<div>\n",
       "<style>\n",
       "    .dataframe thead tr:only-child th {\n",
       "        text-align: right;\n",
       "    }\n",
       "\n",
       "    .dataframe thead th {\n",
       "        text-align: left;\n",
       "    }\n",
       "\n",
       "    .dataframe tbody tr th {\n",
       "        vertical-align: top;\n",
       "    }\n",
       "</style>\n",
       "<table border=\"1\" class=\"dataframe\">\n",
       "  <thead>\n",
       "    <tr style=\"text-align: right;\">\n",
       "      <th></th>\n",
       "      <th>good</th>\n",
       "      <th>bad</th>\n",
       "    </tr>\n",
       "    <tr>\n",
       "      <th>account_num</th>\n",
       "      <th></th>\n",
       "      <th></th>\n",
       "    </tr>\n",
       "  </thead>\n",
       "  <tbody>\n",
       "    <tr>\n",
       "      <th>2</th>\n",
       "      <td>3</td>\n",
       "      <td>1</td>\n",
       "    </tr>\n",
       "    <tr>\n",
       "      <th>3</th>\n",
       "      <td>140</td>\n",
       "      <td>42</td>\n",
       "    </tr>\n",
       "    <tr>\n",
       "      <th>4</th>\n",
       "      <td>341</td>\n",
       "      <td>79</td>\n",
       "    </tr>\n",
       "    <tr>\n",
       "      <th>5</th>\n",
       "      <td>462</td>\n",
       "      <td>91</td>\n",
       "    </tr>\n",
       "    <tr>\n",
       "      <th>6</th>\n",
       "      <td>576</td>\n",
       "      <td>108</td>\n",
       "    </tr>\n",
       "    <tr>\n",
       "      <th>7</th>\n",
       "      <td>699</td>\n",
       "      <td>132</td>\n",
       "    </tr>\n",
       "    <tr>\n",
       "      <th>8</th>\n",
       "      <td>834</td>\n",
       "      <td>172</td>\n",
       "    </tr>\n",
       "    <tr>\n",
       "      <th>9</th>\n",
       "      <td>915</td>\n",
       "      <td>166</td>\n",
       "    </tr>\n",
       "    <tr>\n",
       "      <th>10</th>\n",
       "      <td>1007</td>\n",
       "      <td>187</td>\n",
       "    </tr>\n",
       "    <tr>\n",
       "      <th>11</th>\n",
       "      <td>1080</td>\n",
       "      <td>199</td>\n",
       "    </tr>\n",
       "    <tr>\n",
       "      <th>12</th>\n",
       "      <td>1129</td>\n",
       "      <td>198</td>\n",
       "    </tr>\n",
       "  </tbody>\n",
       "</table>\n",
       "</div>"
      ],
      "text/plain": [
       "             good  bad\n",
       "account_num           \n",
       "2               3    1\n",
       "3             140   42\n",
       "4             341   79\n",
       "5             462   91\n",
       "6             576  108\n",
       "7             699  132\n",
       "8             834  172\n",
       "9             915  166\n",
       "10           1007  187\n",
       "11           1080  199\n",
       "12           1129  198"
      ]
     },
     "execution_count": 92,
     "metadata": {},
     "output_type": "execute_result"
    }
   ],
   "source": [
    "account_table"
   ]
  },
  {
   "cell_type": "code",
   "execution_count": null,
   "metadata": {
    "collapsed": true
   },
   "outputs": [],
   "source": [
    "df2 = df.copy()\n",
    "df2.groupby([col,target]).count"
   ]
  },
  {
   "cell_type": "code",
   "execution_count": null,
   "metadata": {
    "collapsed": true
   },
   "outputs": [],
   "source": [
    "def chi_merge_a(df,col,target,max_groups=None,threshold=None):\n",
    "    '''\n",
    "    卡方分箱\n",
    "    df:pandas dataframe数据集\n",
    "    col:需要分箱的变量名（数值型）\n",
    "    taget:类标签\n",
    "    max_groups:最大分组数\n",
    "    threshold:卡方阈值，如果未指定max_groups,默认使用置信度95%设置threshold\n",
    "    return:包括各组的起始值的列表\n",
    "    '''\n",
    "    freq_tab = pd.crosstab(df[col],df[target])\n",
    "    \n",
    "    #转成numpy数组用于计算\n",
    "    freq = freq_tab.values\n",
    "    \n",
    "    #初始分组切分点，每个变量值都是切分点。每组中只包含一个变量值\n",
    "    #分组区间是左闭右开的，如cutoffs=[1,2,3],则表示区间[1,2)\n",
    "    #[2,3),[3,3+)\n",
    "    cutoffs = freq_tab.index.values\n",
    "    \n",
    "    #如果没有指定最大分组\n",
    "    if max_groups is None:\n",
    "        #如果没有指定卡方阈值，就以95%的置信度(自由度为类数目-1)设定阈值\n",
    "        if threshold is None:\n",
    "            cls_num = freq.shape[-1]\n",
    "            threshold = chi2.isf(0.05,df=cls_num - 1)\n",
    "    while True:\n",
    "        minvalue = None\n",
    "        minidx = None\n",
    "        #从第1组开始，依次取两组计算卡方值，并判断是否小于当前最小的卡方\n",
    "        for i in range(len(freq) - 1):\n",
    "            v = chi2(freq[i:i+2])\n",
    "            # 小于当前最小卡方，更新最小值\n",
    "            if minvalue is None or minvalue > v:\n",
    "                minvalue = v\n",
    "                minidx = i\n",
    "        if(max_groups is not None and max_groups < len(freq) \\\n",
    "           or (threshold is not None and minvalue < threshold)):\n",
    "            # minidx 后一行合并到minidx\n",
    "            tmp = freq[minidx] + freq[minidx + 1]\n",
    "            freq[minidx] = tmp\n",
    "            #删除minidx后一行\n",
    "            freq = np.delete(freq,minidx+1,0)\n",
    "            #删除对应的切分点\n",
    "            cutoffs = np.delete(cutoffs,minidx+1,0)\n",
    "        else:#最小卡方值不小于阈值，停止合并。\n",
    "            break\n",
    "    return cutoffs"
   ]
  }
 ],
 "metadata": {
  "kernelspec": {
   "display_name": "Python 3",
   "language": "python",
   "name": "python3"
  },
  "language_info": {
   "codemirror_mode": {
    "name": "ipython",
    "version": 3
   },
   "file_extension": ".py",
   "mimetype": "text/x-python",
   "name": "python",
   "nbconvert_exporter": "python",
   "pygments_lexer": "ipython3",
   "version": "3.6.1"
  }
 },
 "nbformat": 4,
 "nbformat_minor": 2
}

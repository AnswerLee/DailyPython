{
 "cells": [
  {
   "cell_type": "markdown",
   "metadata": {},
   "source": [
    "迭代器模式，英文称为Iterator模式，它提供了一种方法能够顺序访问集合中的所有元素，而又不暴露集合内部的实现方式。   \n",
    "其实迭代器的本质是实现了一种方式，能够判断集合中是否还有未被访问的元素，以及提供访问这个元素的方式。"
   ]
  },
  {
   "cell_type": "markdown",
   "metadata": {},
   "source": [
    "通常迭代器的定义如下："
   ]
  },
  {
   "cell_type": "code",
   "execution_count": 1,
   "metadata": {
    "collapsed": true
   },
   "outputs": [],
   "source": [
    "from abc import abstractclassmethod\n",
    "\n",
    "class Iterator(object):\n",
    "    \n",
    "    def __init__(self):\n",
    "        pass\n",
    "    \n",
    "    @abstractclassmethod\n",
    "    def hasNext(self):\n",
    "        pass\n",
    "    \n",
    "    @abstractclassmethod\n",
    "    def next(self):\n",
    "        pass"
   ]
  },
  {
   "cell_type": "markdown",
   "metadata": {},
   "source": [
    "即实现了两个方法，是否还有未被访问的元素和下一个未被访问的元素。"
   ]
  },
  {
   "cell_type": "markdown",
   "metadata": {},
   "source": [
    "举一个通俗的例子，一个书架上摆满了书，我们需要查找某本书时，就用到了迭代器模式。我们需要能够查找所有的书，在不知道暑假如何摆放书的情况下。这里，我们将书定义为如下："
   ]
  },
  {
   "cell_type": "code",
   "execution_count": 2,
   "metadata": {
    "collapsed": true
   },
   "outputs": [],
   "source": [
    "class Book:\n",
    "    def __init__(self,name,number):\n",
    "        self.name = name\n",
    "        self.number = number"
   ]
  },
  {
   "cell_type": "markdown",
   "metadata": {},
   "source": [
    "包括两个属性，名称和编号。   \n",
    "同时，我们将书架定义如下："
   ]
  },
  {
   "cell_type": "code",
   "execution_count": 3,
   "metadata": {
    "collapsed": true
   },
   "outputs": [],
   "source": [
    "class BookShelf:\n",
    "    \n",
    "    def __init__(self):\n",
    "        self.books = []\n",
    "        \n",
    "    def appendBook(self,book):\n",
    "        self.books.append(book)\n",
    "        \n",
    "    def getBookAt(self,index):\n",
    "        return self.books[index]\n",
    "    \n",
    "    def getLength(self):\n",
    "        return self.books.__len__()"
   ]
  },
  {
   "cell_type": "markdown",
   "metadata": {},
   "source": [
    "书架实现了增加书目，查找index位置的数目以及总共的图书数目这几个方法。   \n",
    "接下来就是最重要的，也就是Iterator的具体实现："
   ]
  },
  {
   "cell_type": "code",
   "execution_count": 13,
   "metadata": {
    "collapsed": true
   },
   "outputs": [],
   "source": [
    "class BookShelfIterator(Iterator):\n",
    "    \n",
    "    def __init__(self,bookShelf):\n",
    "        self.bookShelf = bookShelf\n",
    "        self.index = 0\n",
    "        \n",
    "    def hasNext(self):\n",
    "        return self.index < self.bookShelf.getLength()\n",
    "    \n",
    "    def next(self):\n",
    "        book = self.bookShelf.getBookAt(self.index)\n",
    "        self.index = self.index + 1\n",
    "        return book"
   ]
  },
  {
   "cell_type": "markdown",
   "metadata": {},
   "source": [
    "这里通过bookShelf的相关方法，来实现了Iterator中的hasNext和next方法。因此在调用的时候，只需要调用这两个方法，便可以访问书架中的所有的书目，从而屏蔽了书架中展示书目的方式。    "
   ]
  },
  {
   "cell_type": "code",
   "execution_count": 5,
   "metadata": {
    "collapsed": true
   },
   "outputs": [],
   "source": [
    "bs = BookShelf()"
   ]
  },
  {
   "cell_type": "code",
   "execution_count": 6,
   "metadata": {
    "collapsed": true
   },
   "outputs": [],
   "source": [
    "bs.appendBook(Book('Python数据挖掘','001'))\n",
    "bs.appendBook(Book('统计学习方法','002'))\n",
    "bs.appendBook(Book('机器学习实战','003'))"
   ]
  },
  {
   "cell_type": "code",
   "execution_count": 15,
   "metadata": {},
   "outputs": [],
   "source": [
    "bsIterator = BookShelfIterator(bs)"
   ]
  },
  {
   "cell_type": "code",
   "execution_count": 16,
   "metadata": {},
   "outputs": [
    {
     "name": "stdout",
     "output_type": "stream",
     "text": [
      "Python数据挖掘 001\n",
      "统计学习方法 002\n",
      "机器学习实战 003\n"
     ]
    }
   ],
   "source": [
    "while(bsIterator.hasNext()):\n",
    "    book = bsIterator.next()\n",
    "    print(book.name,book.number)"
   ]
  },
  {
   "cell_type": "markdown",
   "metadata": {},
   "source": [
    "这里假设有三本书，这样，通过hasNext方法和next方法便可以访问书目的具体信息。   \n",
    "总结一下迭代器模式：\n",
    "- 提供了一种方法能够顺序访问集合中的所有元素\n",
    "- 这种方法不暴露集合内部的实现方式"
   ]
  },
  {
   "cell_type": "code",
   "execution_count": null,
   "metadata": {
    "collapsed": true
   },
   "outputs": [],
   "source": []
  }
 ],
 "metadata": {
  "kernelspec": {
   "display_name": "Python 3",
   "language": "python",
   "name": "python3"
  },
  "language_info": {
   "codemirror_mode": {
    "name": "ipython",
    "version": 3
   },
   "file_extension": ".py",
   "mimetype": "text/x-python",
   "name": "python",
   "nbconvert_exporter": "python",
   "pygments_lexer": "ipython3",
   "version": "3.6.1"
  }
 },
 "nbformat": 4,
 "nbformat_minor": 2
}

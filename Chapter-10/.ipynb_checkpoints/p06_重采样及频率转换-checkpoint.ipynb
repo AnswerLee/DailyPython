{
 "cells": [
  {
   "cell_type": "code",
   "execution_count": 34,
   "metadata": {
    "collapsed": true
   },
   "outputs": [],
   "source": [
    "# 重采样及频率转换\n",
    "import numpy as np\n",
    "import pandas as pd\n",
    "from datetime import datetime\n",
    "from datetime import timedelta\n",
    "from dateutil.parser import parse\n",
    "from pandas import DataFrame,Series\n",
    "from pandas.tseries.offsets import Day,Hour,Minute,MonthEnd,Second"
   ]
  },
  {
   "cell_type": "code",
   "execution_count": 5,
   "metadata": {},
   "outputs": [
    {
     "data": {
      "text/plain": [
       "2000-01-01    0.486906\n",
       "2000-01-02    1.517094\n",
       "2000-01-03   -0.277287\n",
       "2000-01-04   -0.124305\n",
       "2000-01-05   -0.019601\n",
       "Freq: D, dtype: float64"
      ]
     },
     "execution_count": 5,
     "metadata": {},
     "output_type": "execute_result"
    }
   ],
   "source": [
    "rng = pd.date_range('1/1/2000',periods=100,freq='D')\n",
    "ts = Series(np.random.randn(100),index=rng)\n",
    "ts.head()"
   ]
  },
  {
   "cell_type": "code",
   "execution_count": null,
   "metadata": {
    "collapsed": true
   },
   "outputs": [],
   "source": [
    "# resample方法的参数\n",
    "# rule 使用什么标准来采样，比如'M','D','B'等\n",
    "# how 已经被淘汰  原来的how='mean'写成resample(...).mean()\n",
    "# axis 应该是对DataFrame来说的，行操作还是列操作，默认是行操作\n",
    "# fill_method 已经被淘汰\n",
    "# closed 在降采样中，各时间段的哪一端是闭合的，'right'，或'left'\n",
    "# label 在降采样中，如何设置聚合值的标签，'right,或'left'\n",
    "#       例如，9:30到9::35之间的5分钟会被标记为9:00或9:35\n",
    "# conversion 在重采样时期时，将低频转换到高频采样所采用的约定,\n",
    "#            默认'start'，亦可'end'\n",
    "# loffset  面元标签的时间校正值。比如'-1s'或Second(-1)用于将聚合\n",
    "#          标签调早1秒\n",
    "# base 对于5分钟频率，基础可能范围从0到4，默认值是0\n",
    "# on    针对DataFrame中列操作时，指定哪一列来采样\n",
    "# level 针对多维Index，指定使用哪一层的index来采样"
   ]
  },
  {
   "cell_type": "code",
   "execution_count": 13,
   "metadata": {},
   "outputs": [
    {
     "data": {
      "text/plain": [
       "2010-01-01 00:00:00    0\n",
       "2010-01-01 00:01:00    1\n",
       "2010-01-01 00:02:00    2\n",
       "2010-01-01 00:03:00    3\n",
       "2010-01-01 00:04:00    4\n",
       "Freq: T, dtype: int32"
      ]
     },
     "execution_count": 13,
     "metadata": {},
     "output_type": "execute_result"
    }
   ],
   "source": [
    "# 降采样\n",
    "rng = pd.date_range('1/1/2010',periods=15,freq='T')\n",
    "ts = Series(range(15),index=rng)\n",
    "ts.head()"
   ]
  },
  {
   "cell_type": "code",
   "execution_count": 16,
   "metadata": {},
   "outputs": [
    {
     "data": {
      "text/plain": [
       "2010-01-01 00:00:00     3\n",
       "2010-01-01 00:03:00    12\n",
       "2010-01-01 00:06:00    21\n",
       "2010-01-01 00:09:00    30\n",
       "2010-01-01 00:12:00    39\n",
       "Freq: 3T, dtype: int32"
      ]
     },
     "execution_count": 16,
     "metadata": {},
     "output_type": "execute_result"
    }
   ],
   "source": [
    "ts.resample('3T').sum().head()"
   ]
  },
  {
   "cell_type": "code",
   "execution_count": 18,
   "metadata": {},
   "outputs": [
    {
     "data": {
      "text/plain": [
       "2010-01-01 00:00:00     3\n",
       "2010-01-01 00:03:00    12\n",
       "2010-01-01 00:06:00    21\n",
       "2010-01-01 00:09:00    30\n",
       "2010-01-01 00:12:00    39\n",
       "Freq: 3T, dtype: int32"
      ]
     },
     "execution_count": 18,
     "metadata": {},
     "output_type": "execute_result"
    }
   ],
   "source": [
    "# closed 为left，\n",
    "# 3分钟一个区间，00-01-02-03 为3T\n",
    "# left 闭区间是左，则[00,03),sum求和时，取0+1+2=3\n",
    "# 由于label默认是left，所以标签取00\n",
    "ts.resample('3T',closed='left').sum()"
   ]
  },
  {
   "cell_type": "code",
   "execution_count": 19,
   "metadata": {},
   "outputs": [
    {
     "data": {
      "text/plain": [
       "2009-12-31 23:57:00     0\n",
       "2010-01-01 00:00:00     6\n",
       "2010-01-01 00:03:00    15\n",
       "2010-01-01 00:06:00    24\n",
       "2010-01-01 00:09:00    33\n",
       "2010-01-01 00:12:00    27\n",
       "Freq: 3T, dtype: int32"
      ]
     },
     "execution_count": 19,
     "metadata": {},
     "output_type": "execute_result"
    }
   ],
   "source": [
    "# closed为right，\n",
    "# 3分钟一个区间，00-01-02-03 为3T\n",
    "# right闭区间是右，则(00,03]，sum求和时，取1+2+3=6\n",
    "# 由于label默认是left，所以标签取00\n",
    "ts.resample('3T',closed='right').sum()"
   ]
  },
  {
   "cell_type": "code",
   "execution_count": 21,
   "metadata": {},
   "outputs": [
    {
     "data": {
      "text/plain": [
       "2010-01-01 00:03:00     3\n",
       "2010-01-01 00:06:00    12\n",
       "2010-01-01 00:09:00    21\n",
       "2010-01-01 00:12:00    30\n",
       "2010-01-01 00:15:00    39\n",
       "Freq: 3T, dtype: int32"
      ]
     },
     "execution_count": 21,
     "metadata": {},
     "output_type": "execute_result"
    }
   ],
   "source": [
    "# label为right\n",
    "# 3分钟一个区间，00-01-02-03为3T\n",
    "# closed默认为left，所以是[00,03),sum求和时，取0+1+2=3\n",
    "# 由于label是right，所以标签取03\n",
    "ts.resample('3T',label='right').sum()#closed 默认为left"
   ]
  },
  {
   "cell_type": "code",
   "execution_count": 22,
   "metadata": {},
   "outputs": [
    {
     "data": {
      "text/plain": [
       "2010-01-01 00:00:00     3\n",
       "2010-01-01 00:03:00    12\n",
       "2010-01-01 00:06:00    21\n",
       "2010-01-01 00:09:00    30\n",
       "2010-01-01 00:12:00    39\n",
       "Freq: 3T, dtype: int32"
      ]
     },
     "execution_count": 22,
     "metadata": {},
     "output_type": "execute_result"
    }
   ],
   "source": [
    "#label为left  默认为left\n",
    "# 3分钟一个区间，00-01-02-03为3T\n",
    "# closed默认为left，所以是[00,03),sum求和时，取0+1+2=3\n",
    "# 由于labelleft，所以标签取00\n",
    "ts.resample('3T',label='left').sum()# closed默认为left"
   ]
  },
  {
   "cell_type": "code",
   "execution_count": 23,
   "metadata": {},
   "outputs": [
    {
     "data": {
      "text/plain": [
       "2010-01-01 00:00:01     3\n",
       "2010-01-01 00:03:01    12\n",
       "2010-01-01 00:06:01    21\n",
       "2010-01-01 00:09:01    30\n",
       "2010-01-01 00:12:01    39\n",
       "Freq: 3T, dtype: int32"
      ]
     },
     "execution_count": 23,
     "metadata": {},
     "output_type": "execute_result"
    }
   ],
   "source": [
    "# closed=left label=left\n",
    "# 偏移量是1s，所以面元标签+1s\n",
    "# 只改变计算后的标签\n",
    "ts.resample(Minute(3),loffset='1s').sum()"
   ]
  },
  {
   "cell_type": "code",
   "execution_count": 25,
   "metadata": {},
   "outputs": [
    {
     "data": {
      "text/plain": [
       "2010-01-01 00:00:00     3\n",
       "2010-01-01 00:03:00    12\n",
       "2010-01-01 00:06:00    21\n",
       "2010-01-01 00:09:00    30\n",
       "2010-01-01 00:12:00    39\n",
       "Freq: 3T, dtype: int32"
      ]
     },
     "execution_count": 25,
     "metadata": {},
     "output_type": "execute_result"
    }
   ],
   "source": [
    "ts.resample(Minute(3),base=0).sum()"
   ]
  },
  {
   "cell_type": "code",
   "execution_count": 27,
   "metadata": {},
   "outputs": [
    {
     "data": {
      "text/plain": [
       "2009-12-31 23:59:00     1\n",
       "2010-01-01 00:02:00     9\n",
       "2010-01-01 00:05:00    18\n",
       "2010-01-01 00:08:00    27\n",
       "2010-01-01 00:11:00    36\n",
       "2010-01-01 00:14:00    14\n",
       "Freq: 3T, dtype: int32"
      ]
     },
     "execution_count": 27,
     "metadata": {},
     "output_type": "execute_result"
    }
   ],
   "source": [
    "# 类似于loffset，但是base可以理解为同时改变\n",
    "# 面元标签和sum的元素，这里base是2，则计算时\n",
    "# 00-01-02-03 间隔3T，移动base(=2),为\n",
    "# 02-03-04-05 间隔3T，计算sum=2+3+4=9\n",
    "# 由于closed和label默认为left\n",
    "ts.resample(Minute(3),base=2).sum()"
   ]
  },
  {
   "cell_type": "markdown",
   "metadata": {},
   "source": [
    "'''\n",
    "resample(rule, how=None, axis=0, fill_method=None, closed=None, label=None, convention='start', kind=None, loffset=None, limit=None, base=0, on=None, level=None)\n",
    "'''"
   ]
  },
  {
   "cell_type": "code",
   "execution_count": 35,
   "metadata": {},
   "outputs": [
    {
     "data": {
      "text/plain": [
       "2010-01-01 00:00:00    0.0\n",
       "2010-01-01 00:00:30    NaN\n",
       "2010-01-01 00:01:00    1.0\n",
       "2010-01-01 00:01:30    NaN\n",
       "2010-01-01 00:02:00    2.0\n",
       "Freq: 30S, dtype: float64"
      ]
     },
     "execution_count": 35,
     "metadata": {},
     "output_type": "execute_result"
    }
   ],
   "source": [
    "# 重采样30s\n",
    "ts.resample(Second(30)).asfreq()[0:5]"
   ]
  },
  {
   "cell_type": "code",
   "execution_count": 36,
   "metadata": {},
   "outputs": [
    {
     "data": {
      "text/plain": [
       "2010-01-01 00:00:00    0\n",
       "2010-01-01 00:00:30    0\n",
       "2010-01-01 00:01:00    1\n",
       "2010-01-01 00:01:30    1\n",
       "2010-01-01 00:02:00    2\n",
       "Freq: 30S, dtype: int32"
      ]
     },
     "execution_count": 36,
     "metadata": {},
     "output_type": "execute_result"
    }
   ],
   "source": [
    "# 填充NaN,前向填充类似于ffill\n",
    "ts.resample(Second(30)).pad()[0:5]"
   ]
  },
  {
   "cell_type": "code",
   "execution_count": 37,
   "metadata": {},
   "outputs": [
    {
     "data": {
      "text/plain": [
       "2010-01-01 00:00:00    0\n",
       "2010-01-01 00:00:30    1\n",
       "2010-01-01 00:01:00    1\n",
       "2010-01-01 00:01:30    2\n",
       "2010-01-01 00:02:00    2\n",
       "Freq: 30S, dtype: int32"
      ]
     },
     "execution_count": 37,
     "metadata": {},
     "output_type": "execute_result"
    }
   ],
   "source": [
    "# 填充NaN，后向填充，类似于bfill\n",
    "ts.resample('30S').bfill()[0:5]"
   ]
  },
  {
   "cell_type": "code",
   "execution_count": 38,
   "metadata": {},
   "outputs": [
    {
     "data": {
      "text/plain": [
       "2010-01-01 00:00:00     8\n",
       "2010-01-01 00:03:00    17\n",
       "2010-01-01 00:06:00    26\n",
       "2010-01-01 00:09:00    35\n",
       "2010-01-01 00:12:00    44\n",
       "Freq: 3T, dtype: int32"
      ]
     },
     "execution_count": 38,
     "metadata": {},
     "output_type": "execute_result"
    }
   ],
   "source": [
    "# 通过apply运行一个自定义函数\n",
    "def custom_resample(array_like):\n",
    "    return np.sum(array_like)+5\n",
    "ts.resample(Minute(3)).apply(custom_resample)"
   ]
  },
  {
   "cell_type": "code",
   "execution_count": 40,
   "metadata": {},
   "outputs": [
    {
     "data": {
      "text/html": [
       "<div>\n",
       "<style>\n",
       "    .dataframe thead tr:only-child th {\n",
       "        text-align: right;\n",
       "    }\n",
       "\n",
       "    .dataframe thead th {\n",
       "        text-align: left;\n",
       "    }\n",
       "\n",
       "    .dataframe tbody tr th {\n",
       "        vertical-align: top;\n",
       "    }\n",
       "</style>\n",
       "<table border=\"1\" class=\"dataframe\">\n",
       "  <thead>\n",
       "    <tr style=\"text-align: right;\">\n",
       "      <th></th>\n",
       "      <th>a</th>\n",
       "      <th>b</th>\n",
       "      <th>c</th>\n",
       "      <th>d</th>\n",
       "      <th>time</th>\n",
       "    </tr>\n",
       "  </thead>\n",
       "  <tbody>\n",
       "    <tr>\n",
       "      <th>0</th>\n",
       "      <td>0</td>\n",
       "      <td>1</td>\n",
       "      <td>2</td>\n",
       "      <td>3</td>\n",
       "      <td>2000-01-01 00:00:00</td>\n",
       "    </tr>\n",
       "    <tr>\n",
       "      <th>1</th>\n",
       "      <td>0</td>\n",
       "      <td>1</td>\n",
       "      <td>2</td>\n",
       "      <td>3</td>\n",
       "      <td>2000-01-01 00:01:00</td>\n",
       "    </tr>\n",
       "    <tr>\n",
       "      <th>2</th>\n",
       "      <td>0</td>\n",
       "      <td>1</td>\n",
       "      <td>2</td>\n",
       "      <td>3</td>\n",
       "      <td>2000-01-01 00:02:00</td>\n",
       "    </tr>\n",
       "    <tr>\n",
       "      <th>3</th>\n",
       "      <td>0</td>\n",
       "      <td>1</td>\n",
       "      <td>2</td>\n",
       "      <td>3</td>\n",
       "      <td>2000-01-01 00:03:00</td>\n",
       "    </tr>\n",
       "    <tr>\n",
       "      <th>4</th>\n",
       "      <td>0</td>\n",
       "      <td>1</td>\n",
       "      <td>2</td>\n",
       "      <td>3</td>\n",
       "      <td>2000-01-01 00:04:00</td>\n",
       "    </tr>\n",
       "  </tbody>\n",
       "</table>\n",
       "</div>"
      ],
      "text/plain": [
       "   a  b  c  d                time\n",
       "0  0  1  2  3 2000-01-01 00:00:00\n",
       "1  0  1  2  3 2000-01-01 00:01:00\n",
       "2  0  1  2  3 2000-01-01 00:02:00\n",
       "3  0  1  2  3 2000-01-01 00:03:00\n",
       "4  0  1  2  3 2000-01-01 00:04:00"
      ]
     },
     "execution_count": 40,
     "metadata": {},
     "output_type": "execute_result"
    }
   ],
   "source": [
    "df = DataFrame(data=9*[range(4)],columns=['a','b','c','d'])\n",
    "df['time'] = pd.date_range('1/1/2000',periods=9,freq='T')\n",
    "df.head()"
   ]
  },
  {
   "cell_type": "code",
   "execution_count": 41,
   "metadata": {},
   "outputs": [
    {
     "data": {
      "text/html": [
       "<div>\n",
       "<style>\n",
       "    .dataframe thead tr:only-child th {\n",
       "        text-align: right;\n",
       "    }\n",
       "\n",
       "    .dataframe thead th {\n",
       "        text-align: left;\n",
       "    }\n",
       "\n",
       "    .dataframe tbody tr th {\n",
       "        vertical-align: top;\n",
       "    }\n",
       "</style>\n",
       "<table border=\"1\" class=\"dataframe\">\n",
       "  <thead>\n",
       "    <tr style=\"text-align: right;\">\n",
       "      <th></th>\n",
       "      <th>a</th>\n",
       "      <th>b</th>\n",
       "      <th>c</th>\n",
       "      <th>d</th>\n",
       "    </tr>\n",
       "    <tr>\n",
       "      <th>time</th>\n",
       "      <th></th>\n",
       "      <th></th>\n",
       "      <th></th>\n",
       "      <th></th>\n",
       "    </tr>\n",
       "  </thead>\n",
       "  <tbody>\n",
       "    <tr>\n",
       "      <th>2000-01-01 00:00:00</th>\n",
       "      <td>0</td>\n",
       "      <td>3</td>\n",
       "      <td>6</td>\n",
       "      <td>9</td>\n",
       "    </tr>\n",
       "    <tr>\n",
       "      <th>2000-01-01 00:03:00</th>\n",
       "      <td>0</td>\n",
       "      <td>3</td>\n",
       "      <td>6</td>\n",
       "      <td>9</td>\n",
       "    </tr>\n",
       "    <tr>\n",
       "      <th>2000-01-01 00:06:00</th>\n",
       "      <td>0</td>\n",
       "      <td>3</td>\n",
       "      <td>6</td>\n",
       "      <td>9</td>\n",
       "    </tr>\n",
       "  </tbody>\n",
       "</table>\n",
       "</div>"
      ],
      "text/plain": [
       "                     a  b  c  d\n",
       "time                           \n",
       "2000-01-01 00:00:00  0  3  6  9\n",
       "2000-01-01 00:03:00  0  3  6  9\n",
       "2000-01-01 00:06:00  0  3  6  9"
      ]
     },
     "execution_count": 41,
     "metadata": {},
     "output_type": "execute_result"
    }
   ],
   "source": [
    "df.resample('3T',on='time').sum()"
   ]
  },
  {
   "cell_type": "code",
   "execution_count": 43,
   "metadata": {},
   "outputs": [
    {
     "data": {
      "text/html": [
       "<div>\n",
       "<style>\n",
       "    .dataframe thead tr:only-child th {\n",
       "        text-align: right;\n",
       "    }\n",
       "\n",
       "    .dataframe thead th {\n",
       "        text-align: left;\n",
       "    }\n",
       "\n",
       "    .dataframe tbody tr th {\n",
       "        vertical-align: top;\n",
       "    }\n",
       "</style>\n",
       "<table border=\"1\" class=\"dataframe\">\n",
       "  <thead>\n",
       "    <tr style=\"text-align: right;\">\n",
       "      <th></th>\n",
       "      <th></th>\n",
       "      <th>a</th>\n",
       "      <th>b</th>\n",
       "      <th>c</th>\n",
       "      <th>d</th>\n",
       "    </tr>\n",
       "  </thead>\n",
       "  <tbody>\n",
       "    <tr>\n",
       "      <th rowspan=\"2\" valign=\"top\">2000-01-01 00:00:00</th>\n",
       "      <th>1</th>\n",
       "      <td>0</td>\n",
       "      <td>1</td>\n",
       "      <td>2</td>\n",
       "      <td>3</td>\n",
       "    </tr>\n",
       "    <tr>\n",
       "      <th>2</th>\n",
       "      <td>0</td>\n",
       "      <td>1</td>\n",
       "      <td>2</td>\n",
       "      <td>3</td>\n",
       "    </tr>\n",
       "    <tr>\n",
       "      <th rowspan=\"2\" valign=\"top\">2000-01-01 00:01:00</th>\n",
       "      <th>1</th>\n",
       "      <td>0</td>\n",
       "      <td>1</td>\n",
       "      <td>2</td>\n",
       "      <td>3</td>\n",
       "    </tr>\n",
       "    <tr>\n",
       "      <th>2</th>\n",
       "      <td>0</td>\n",
       "      <td>1</td>\n",
       "      <td>2</td>\n",
       "      <td>3</td>\n",
       "    </tr>\n",
       "    <tr>\n",
       "      <th rowspan=\"2\" valign=\"top\">2000-01-01 00:02:00</th>\n",
       "      <th>1</th>\n",
       "      <td>0</td>\n",
       "      <td>1</td>\n",
       "      <td>2</td>\n",
       "      <td>3</td>\n",
       "    </tr>\n",
       "    <tr>\n",
       "      <th>2</th>\n",
       "      <td>0</td>\n",
       "      <td>1</td>\n",
       "      <td>2</td>\n",
       "      <td>3</td>\n",
       "    </tr>\n",
       "    <tr>\n",
       "      <th rowspan=\"2\" valign=\"top\">2000-01-01 00:03:00</th>\n",
       "      <th>1</th>\n",
       "      <td>0</td>\n",
       "      <td>1</td>\n",
       "      <td>2</td>\n",
       "      <td>3</td>\n",
       "    </tr>\n",
       "    <tr>\n",
       "      <th>2</th>\n",
       "      <td>0</td>\n",
       "      <td>1</td>\n",
       "      <td>2</td>\n",
       "      <td>3</td>\n",
       "    </tr>\n",
       "    <tr>\n",
       "      <th rowspan=\"2\" valign=\"top\">2000-01-01 00:04:00</th>\n",
       "      <th>1</th>\n",
       "      <td>0</td>\n",
       "      <td>1</td>\n",
       "      <td>2</td>\n",
       "      <td>3</td>\n",
       "    </tr>\n",
       "    <tr>\n",
       "      <th>2</th>\n",
       "      <td>0</td>\n",
       "      <td>1</td>\n",
       "      <td>2</td>\n",
       "      <td>3</td>\n",
       "    </tr>\n",
       "  </tbody>\n",
       "</table>\n",
       "</div>"
      ],
      "text/plain": [
       "                       a  b  c  d\n",
       "2000-01-01 00:00:00 1  0  1  2  3\n",
       "                    2  0  1  2  3\n",
       "2000-01-01 00:01:00 1  0  1  2  3\n",
       "                    2  0  1  2  3\n",
       "2000-01-01 00:02:00 1  0  1  2  3\n",
       "                    2  0  1  2  3\n",
       "2000-01-01 00:03:00 1  0  1  2  3\n",
       "                    2  0  1  2  3\n",
       "2000-01-01 00:04:00 1  0  1  2  3\n",
       "                    2  0  1  2  3"
      ]
     },
     "execution_count": 43,
     "metadata": {},
     "output_type": "execute_result"
    }
   ],
   "source": [
    "time = pd.date_range('1/1/2000',periods=5,freq='T')\n",
    "df = DataFrame(data=10*[range(4)],\n",
    "              columns=['a','b','c','d'],\n",
    "              index=pd.MultiIndex.from_product(\n",
    "              [time,[1,2]]))\n",
    "df"
   ]
  },
  {
   "cell_type": "code",
   "execution_count": 48,
   "metadata": {},
   "outputs": [
    {
     "data": {
      "text/html": [
       "<div>\n",
       "<style>\n",
       "    .dataframe thead tr:only-child th {\n",
       "        text-align: right;\n",
       "    }\n",
       "\n",
       "    .dataframe thead th {\n",
       "        text-align: left;\n",
       "    }\n",
       "\n",
       "    .dataframe tbody tr th {\n",
       "        vertical-align: top;\n",
       "    }\n",
       "</style>\n",
       "<table border=\"1\" class=\"dataframe\">\n",
       "  <thead>\n",
       "    <tr style=\"text-align: right;\">\n",
       "      <th></th>\n",
       "      <th>a</th>\n",
       "      <th>b</th>\n",
       "      <th>c</th>\n",
       "      <th>d</th>\n",
       "    </tr>\n",
       "  </thead>\n",
       "  <tbody>\n",
       "    <tr>\n",
       "      <th>2000-01-01 00:00:00</th>\n",
       "      <td>0</td>\n",
       "      <td>4</td>\n",
       "      <td>8</td>\n",
       "      <td>12</td>\n",
       "    </tr>\n",
       "    <tr>\n",
       "      <th>2000-01-01 00:02:00</th>\n",
       "      <td>0</td>\n",
       "      <td>4</td>\n",
       "      <td>8</td>\n",
       "      <td>12</td>\n",
       "    </tr>\n",
       "    <tr>\n",
       "      <th>2000-01-01 00:04:00</th>\n",
       "      <td>0</td>\n",
       "      <td>2</td>\n",
       "      <td>4</td>\n",
       "      <td>6</td>\n",
       "    </tr>\n",
       "  </tbody>\n",
       "</table>\n",
       "</div>"
      ],
      "text/plain": [
       "                     a  b  c   d\n",
       "2000-01-01 00:00:00  0  4  8  12\n",
       "2000-01-01 00:02:00  0  4  8  12\n",
       "2000-01-01 00:04:00  0  2  4   6"
      ]
     },
     "execution_count": 48,
     "metadata": {},
     "output_type": "execute_result"
    }
   ],
   "source": [
    "df.resample('2T',level=0).sum()"
   ]
  },
  {
   "cell_type": "code",
   "execution_count": 49,
   "metadata": {
    "collapsed": true
   },
   "outputs": [],
   "source": [
    "# OHLC重采样 Open/High/Low/Close"
   ]
  },
  {
   "cell_type": "code",
   "execution_count": 50,
   "metadata": {},
   "outputs": [
    {
     "data": {
      "text/plain": [
       "2000-01-01 00:00:00    0\n",
       "2000-01-01 00:01:00    1\n",
       "2000-01-01 00:02:00    2\n",
       "2000-01-01 00:03:00    3\n",
       "2000-01-01 00:04:00    4\n",
       "Freq: T, dtype: int32"
      ]
     },
     "execution_count": 50,
     "metadata": {},
     "output_type": "execute_result"
    }
   ],
   "source": [
    "rng = pd.date_range('1/1/2000',periods=15,freq='T')\n",
    "ts = Series(range(15),index=rng)\n",
    "ts.head()"
   ]
  },
  {
   "cell_type": "code",
   "execution_count": 51,
   "metadata": {},
   "outputs": [
    {
     "data": {
      "text/html": [
       "<div>\n",
       "<style>\n",
       "    .dataframe thead tr:only-child th {\n",
       "        text-align: right;\n",
       "    }\n",
       "\n",
       "    .dataframe thead th {\n",
       "        text-align: left;\n",
       "    }\n",
       "\n",
       "    .dataframe tbody tr th {\n",
       "        vertical-align: top;\n",
       "    }\n",
       "</style>\n",
       "<table border=\"1\" class=\"dataframe\">\n",
       "  <thead>\n",
       "    <tr style=\"text-align: right;\">\n",
       "      <th></th>\n",
       "      <th>open</th>\n",
       "      <th>high</th>\n",
       "      <th>low</th>\n",
       "      <th>close</th>\n",
       "    </tr>\n",
       "  </thead>\n",
       "  <tbody>\n",
       "    <tr>\n",
       "      <th>2000-01-01 00:00:00</th>\n",
       "      <td>0</td>\n",
       "      <td>4</td>\n",
       "      <td>0</td>\n",
       "      <td>4</td>\n",
       "    </tr>\n",
       "    <tr>\n",
       "      <th>2000-01-01 00:05:00</th>\n",
       "      <td>5</td>\n",
       "      <td>9</td>\n",
       "      <td>5</td>\n",
       "      <td>9</td>\n",
       "    </tr>\n",
       "    <tr>\n",
       "      <th>2000-01-01 00:10:00</th>\n",
       "      <td>10</td>\n",
       "      <td>14</td>\n",
       "      <td>10</td>\n",
       "      <td>14</td>\n",
       "    </tr>\n",
       "  </tbody>\n",
       "</table>\n",
       "</div>"
      ],
      "text/plain": [
       "                     open  high  low  close\n",
       "2000-01-01 00:00:00     0     4    0      4\n",
       "2000-01-01 00:05:00     5     9    5      9\n",
       "2000-01-01 00:10:00    10    14   10     14"
      ]
     },
     "execution_count": 51,
     "metadata": {},
     "output_type": "execute_result"
    }
   ],
   "source": [
    "# 其实就是5分钟k线图\n",
    "ts.resample('5T').ohlc() # 开盘，最高，最低，收盘"
   ]
  },
  {
   "cell_type": "code",
   "execution_count": 52,
   "metadata": {},
   "outputs": [
    {
     "data": {
      "text/plain": [
       "1    15\n",
       "2    45\n",
       "3    75\n",
       "4    95\n",
       "dtype: int32"
      ]
     },
     "execution_count": 52,
     "metadata": {},
     "output_type": "execute_result"
    }
   ],
   "source": [
    "# 通过groupby进行重采样\n",
    "rng = pd.date_range('1/1/2000',periods=100,freq='D')\n",
    "ts = Series(range(100),index=rng)\n",
    "ts.groupby(lambda x:x.month).mean()"
   ]
  },
  {
   "cell_type": "code",
   "execution_count": 53,
   "metadata": {},
   "outputs": [
    {
     "data": {
      "text/plain": [
       "0    47.5\n",
       "1    48.5\n",
       "2    49.5\n",
       "3    50.5\n",
       "4    51.5\n",
       "5    49.0\n",
       "6    50.0\n",
       "dtype: float64"
      ]
     },
     "execution_count": 53,
     "metadata": {},
     "output_type": "execute_result"
    }
   ],
   "source": [
    "ts.groupby(lambda x:x.weekday).mean()# 0是周日"
   ]
  },
  {
   "cell_type": "code",
   "execution_count": 54,
   "metadata": {},
   "outputs": [
    {
     "data": {
      "text/html": [
       "<div>\n",
       "<style>\n",
       "    .dataframe thead tr:only-child th {\n",
       "        text-align: right;\n",
       "    }\n",
       "\n",
       "    .dataframe thead th {\n",
       "        text-align: left;\n",
       "    }\n",
       "\n",
       "    .dataframe tbody tr th {\n",
       "        vertical-align: top;\n",
       "    }\n",
       "</style>\n",
       "<table border=\"1\" class=\"dataframe\">\n",
       "  <thead>\n",
       "    <tr style=\"text-align: right;\">\n",
       "      <th></th>\n",
       "      <th>Colorado</th>\n",
       "      <th>Texas</th>\n",
       "      <th>New York</th>\n",
       "      <th>Ohio</th>\n",
       "    </tr>\n",
       "  </thead>\n",
       "  <tbody>\n",
       "    <tr>\n",
       "      <th>2000-01-05</th>\n",
       "      <td>-0.152852</td>\n",
       "      <td>-0.778139</td>\n",
       "      <td>0.088707</td>\n",
       "      <td>-0.442574</td>\n",
       "    </tr>\n",
       "    <tr>\n",
       "      <th>2000-01-12</th>\n",
       "      <td>-0.985766</td>\n",
       "      <td>-1.891469</td>\n",
       "      <td>-1.081687</td>\n",
       "      <td>-0.185280</td>\n",
       "    </tr>\n",
       "  </tbody>\n",
       "</table>\n",
       "</div>"
      ],
      "text/plain": [
       "            Colorado     Texas  New York      Ohio\n",
       "2000-01-05 -0.152852 -0.778139  0.088707 -0.442574\n",
       "2000-01-12 -0.985766 -1.891469 -1.081687 -0.185280"
      ]
     },
     "execution_count": 54,
     "metadata": {},
     "output_type": "execute_result"
    }
   ],
   "source": [
    "# 升采样和插值\n",
    "frame = DataFrame(np.random.randn(2,4),\n",
    "                 index=pd.date_range('1/1/2000',periods=2,freq='W-WED'),\n",
    "                 columns=['Colorado','Texas','New York','Ohio'])\n",
    "frame"
   ]
  },
  {
   "cell_type": "code",
   "execution_count": 55,
   "metadata": {},
   "outputs": [
    {
     "data": {
      "text/html": [
       "<div>\n",
       "<style>\n",
       "    .dataframe thead tr:only-child th {\n",
       "        text-align: right;\n",
       "    }\n",
       "\n",
       "    .dataframe thead th {\n",
       "        text-align: left;\n",
       "    }\n",
       "\n",
       "    .dataframe tbody tr th {\n",
       "        vertical-align: top;\n",
       "    }\n",
       "</style>\n",
       "<table border=\"1\" class=\"dataframe\">\n",
       "  <thead>\n",
       "    <tr style=\"text-align: right;\">\n",
       "      <th></th>\n",
       "      <th>Colorado</th>\n",
       "      <th>Texas</th>\n",
       "      <th>New York</th>\n",
       "      <th>Ohio</th>\n",
       "    </tr>\n",
       "  </thead>\n",
       "  <tbody>\n",
       "    <tr>\n",
       "      <th>2000-01-05</th>\n",
       "      <td>-0.152852</td>\n",
       "      <td>-0.778139</td>\n",
       "      <td>0.088707</td>\n",
       "      <td>-0.442574</td>\n",
       "    </tr>\n",
       "    <tr>\n",
       "      <th>2000-01-06</th>\n",
       "      <td>-0.152852</td>\n",
       "      <td>-0.778139</td>\n",
       "      <td>0.088707</td>\n",
       "      <td>-0.442574</td>\n",
       "    </tr>\n",
       "    <tr>\n",
       "      <th>2000-01-07</th>\n",
       "      <td>-0.152852</td>\n",
       "      <td>-0.778139</td>\n",
       "      <td>0.088707</td>\n",
       "      <td>-0.442574</td>\n",
       "    </tr>\n",
       "    <tr>\n",
       "      <th>2000-01-08</th>\n",
       "      <td>-0.152852</td>\n",
       "      <td>-0.778139</td>\n",
       "      <td>0.088707</td>\n",
       "      <td>-0.442574</td>\n",
       "    </tr>\n",
       "    <tr>\n",
       "      <th>2000-01-09</th>\n",
       "      <td>-0.152852</td>\n",
       "      <td>-0.778139</td>\n",
       "      <td>0.088707</td>\n",
       "      <td>-0.442574</td>\n",
       "    </tr>\n",
       "    <tr>\n",
       "      <th>2000-01-10</th>\n",
       "      <td>-0.152852</td>\n",
       "      <td>-0.778139</td>\n",
       "      <td>0.088707</td>\n",
       "      <td>-0.442574</td>\n",
       "    </tr>\n",
       "    <tr>\n",
       "      <th>2000-01-11</th>\n",
       "      <td>-0.152852</td>\n",
       "      <td>-0.778139</td>\n",
       "      <td>0.088707</td>\n",
       "      <td>-0.442574</td>\n",
       "    </tr>\n",
       "    <tr>\n",
       "      <th>2000-01-12</th>\n",
       "      <td>-0.985766</td>\n",
       "      <td>-1.891469</td>\n",
       "      <td>-1.081687</td>\n",
       "      <td>-0.185280</td>\n",
       "    </tr>\n",
       "  </tbody>\n",
       "</table>\n",
       "</div>"
      ],
      "text/plain": [
       "            Colorado     Texas  New York      Ohio\n",
       "2000-01-05 -0.152852 -0.778139  0.088707 -0.442574\n",
       "2000-01-06 -0.152852 -0.778139  0.088707 -0.442574\n",
       "2000-01-07 -0.152852 -0.778139  0.088707 -0.442574\n",
       "2000-01-08 -0.152852 -0.778139  0.088707 -0.442574\n",
       "2000-01-09 -0.152852 -0.778139  0.088707 -0.442574\n",
       "2000-01-10 -0.152852 -0.778139  0.088707 -0.442574\n",
       "2000-01-11 -0.152852 -0.778139  0.088707 -0.442574\n",
       "2000-01-12 -0.985766 -1.891469 -1.081687 -0.185280"
      ]
     },
     "execution_count": 55,
     "metadata": {},
     "output_type": "execute_result"
    }
   ],
   "source": [
    "frame.resample('D').pad()"
   ]
  },
  {
   "cell_type": "code",
   "execution_count": 58,
   "metadata": {},
   "outputs": [
    {
     "name": "stdout",
     "output_type": "stream",
     "text": [
      "('Colorado', 2000-01-05   -0.152852\n",
      "2000-01-06         NaN\n",
      "2000-01-07         NaN\n",
      "2000-01-08         NaN\n",
      "2000-01-09         NaN\n",
      "2000-01-10         NaN\n",
      "2000-01-11         NaN\n",
      "2000-01-12   -0.985766\n",
      "Freq: D, Name: Colorado, dtype: float64)\n",
      "('Texas', 2000-01-05   -0.778139\n",
      "2000-01-06         NaN\n",
      "2000-01-07         NaN\n",
      "2000-01-08         NaN\n",
      "2000-01-09         NaN\n",
      "2000-01-10         NaN\n",
      "2000-01-11         NaN\n",
      "2000-01-12   -1.891469\n",
      "Freq: D, Name: Texas, dtype: float64)\n",
      "('New York', 2000-01-05    0.088707\n",
      "2000-01-06         NaN\n",
      "2000-01-07         NaN\n",
      "2000-01-08         NaN\n",
      "2000-01-09         NaN\n",
      "2000-01-10         NaN\n",
      "2000-01-11         NaN\n",
      "2000-01-12   -1.081687\n",
      "Freq: D, Name: New York, dtype: float64)\n",
      "('Ohio', 2000-01-05   -0.442574\n",
      "2000-01-06         NaN\n",
      "2000-01-07         NaN\n",
      "2000-01-08         NaN\n",
      "2000-01-09         NaN\n",
      "2000-01-10         NaN\n",
      "2000-01-11         NaN\n",
      "2000-01-12   -0.185280\n",
      "Freq: D, Name: Ohio, dtype: float64)\n"
     ]
    },
    {
     "name": "stderr",
     "output_type": "stream",
     "text": [
      "D:\\Continuum\\Anaconda3\\lib\\site-packages\\ipykernel_launcher.py:1: FutureWarning: \n",
      ".resample() is now a deferred operation\n",
      "You called iteritems(...) on this deferred object which materialized it into a dataframe\n",
      "by implicitly taking the mean.  Use .resample(...).mean() instead\n",
      "  \"\"\"Entry point for launching an IPython kernel.\n"
     ]
    }
   ],
   "source": [
    "for i in frame.resample('D').iteritems():\n",
    "    print(i)"
   ]
  },
  {
   "cell_type": "code",
   "execution_count": 59,
   "metadata": {},
   "outputs": [
    {
     "data": {
      "text/html": [
       "<div>\n",
       "<style>\n",
       "    .dataframe thead tr:only-child th {\n",
       "        text-align: right;\n",
       "    }\n",
       "\n",
       "    .dataframe thead th {\n",
       "        text-align: left;\n",
       "    }\n",
       "\n",
       "    .dataframe tbody tr th {\n",
       "        vertical-align: top;\n",
       "    }\n",
       "</style>\n",
       "<table border=\"1\" class=\"dataframe\">\n",
       "  <thead>\n",
       "    <tr style=\"text-align: right;\">\n",
       "      <th></th>\n",
       "      <th>Colorado</th>\n",
       "      <th>Texas</th>\n",
       "      <th>New York</th>\n",
       "      <th>Ohio</th>\n",
       "    </tr>\n",
       "  </thead>\n",
       "  <tbody>\n",
       "    <tr>\n",
       "      <th>2000-01-05</th>\n",
       "      <td>-0.152852</td>\n",
       "      <td>-0.778139</td>\n",
       "      <td>0.088707</td>\n",
       "      <td>-0.442574</td>\n",
       "    </tr>\n",
       "    <tr>\n",
       "      <th>2000-01-06</th>\n",
       "      <td>-0.985766</td>\n",
       "      <td>-1.891469</td>\n",
       "      <td>-1.081687</td>\n",
       "      <td>-0.185280</td>\n",
       "    </tr>\n",
       "    <tr>\n",
       "      <th>2000-01-07</th>\n",
       "      <td>-0.985766</td>\n",
       "      <td>-1.891469</td>\n",
       "      <td>-1.081687</td>\n",
       "      <td>-0.185280</td>\n",
       "    </tr>\n",
       "    <tr>\n",
       "      <th>2000-01-08</th>\n",
       "      <td>-0.985766</td>\n",
       "      <td>-1.891469</td>\n",
       "      <td>-1.081687</td>\n",
       "      <td>-0.185280</td>\n",
       "    </tr>\n",
       "    <tr>\n",
       "      <th>2000-01-09</th>\n",
       "      <td>-0.985766</td>\n",
       "      <td>-1.891469</td>\n",
       "      <td>-1.081687</td>\n",
       "      <td>-0.185280</td>\n",
       "    </tr>\n",
       "    <tr>\n",
       "      <th>2000-01-10</th>\n",
       "      <td>-0.985766</td>\n",
       "      <td>-1.891469</td>\n",
       "      <td>-1.081687</td>\n",
       "      <td>-0.185280</td>\n",
       "    </tr>\n",
       "    <tr>\n",
       "      <th>2000-01-11</th>\n",
       "      <td>-0.985766</td>\n",
       "      <td>-1.891469</td>\n",
       "      <td>-1.081687</td>\n",
       "      <td>-0.185280</td>\n",
       "    </tr>\n",
       "    <tr>\n",
       "      <th>2000-01-12</th>\n",
       "      <td>-0.985766</td>\n",
       "      <td>-1.891469</td>\n",
       "      <td>-1.081687</td>\n",
       "      <td>-0.185280</td>\n",
       "    </tr>\n",
       "  </tbody>\n",
       "</table>\n",
       "</div>"
      ],
      "text/plain": [
       "            Colorado     Texas  New York      Ohio\n",
       "2000-01-05 -0.152852 -0.778139  0.088707 -0.442574\n",
       "2000-01-06 -0.985766 -1.891469 -1.081687 -0.185280\n",
       "2000-01-07 -0.985766 -1.891469 -1.081687 -0.185280\n",
       "2000-01-08 -0.985766 -1.891469 -1.081687 -0.185280\n",
       "2000-01-09 -0.985766 -1.891469 -1.081687 -0.185280\n",
       "2000-01-10 -0.985766 -1.891469 -1.081687 -0.185280\n",
       "2000-01-11 -0.985766 -1.891469 -1.081687 -0.185280\n",
       "2000-01-12 -0.985766 -1.891469 -1.081687 -0.185280"
      ]
     },
     "execution_count": 59,
     "metadata": {},
     "output_type": "execute_result"
    }
   ],
   "source": [
    "frame.resample('D').bfill()"
   ]
  },
  {
   "cell_type": "code",
   "execution_count": 63,
   "metadata": {
    "collapsed": true
   },
   "outputs": [],
   "source": [
    "# 通过时期进行重采样"
   ]
  },
  {
   "cell_type": "code",
   "execution_count": 64,
   "metadata": {},
   "outputs": [
    {
     "data": {
      "text/html": [
       "<div>\n",
       "<style>\n",
       "    .dataframe thead tr:only-child th {\n",
       "        text-align: right;\n",
       "    }\n",
       "\n",
       "    .dataframe thead th {\n",
       "        text-align: left;\n",
       "    }\n",
       "\n",
       "    .dataframe tbody tr th {\n",
       "        vertical-align: top;\n",
       "    }\n",
       "</style>\n",
       "<table border=\"1\" class=\"dataframe\">\n",
       "  <thead>\n",
       "    <tr style=\"text-align: right;\">\n",
       "      <th></th>\n",
       "      <th>Colorado</th>\n",
       "      <th>Texas</th>\n",
       "      <th>New York</th>\n",
       "      <th>Ohio</th>\n",
       "    </tr>\n",
       "  </thead>\n",
       "  <tbody>\n",
       "    <tr>\n",
       "      <th>2000-01</th>\n",
       "      <td>-1.346188</td>\n",
       "      <td>1.258305</td>\n",
       "      <td>-0.810552</td>\n",
       "      <td>0.171215</td>\n",
       "    </tr>\n",
       "    <tr>\n",
       "      <th>2000-02</th>\n",
       "      <td>-0.250168</td>\n",
       "      <td>0.283150</td>\n",
       "      <td>1.324118</td>\n",
       "      <td>0.112565</td>\n",
       "    </tr>\n",
       "    <tr>\n",
       "      <th>2000-03</th>\n",
       "      <td>0.571713</td>\n",
       "      <td>-1.033826</td>\n",
       "      <td>1.057647</td>\n",
       "      <td>-1.301723</td>\n",
       "    </tr>\n",
       "    <tr>\n",
       "      <th>2000-04</th>\n",
       "      <td>-1.036244</td>\n",
       "      <td>0.594786</td>\n",
       "      <td>0.598773</td>\n",
       "      <td>-0.391418</td>\n",
       "    </tr>\n",
       "    <tr>\n",
       "      <th>2000-05</th>\n",
       "      <td>-0.425644</td>\n",
       "      <td>-0.241858</td>\n",
       "      <td>-0.162240</td>\n",
       "      <td>-0.027402</td>\n",
       "    </tr>\n",
       "  </tbody>\n",
       "</table>\n",
       "</div>"
      ],
      "text/plain": [
       "         Colorado     Texas  New York      Ohio\n",
       "2000-01 -1.346188  1.258305 -0.810552  0.171215\n",
       "2000-02 -0.250168  0.283150  1.324118  0.112565\n",
       "2000-03  0.571713 -1.033826  1.057647 -1.301723\n",
       "2000-04 -1.036244  0.594786  0.598773 -0.391418\n",
       "2000-05 -0.425644 -0.241858 -0.162240 -0.027402"
      ]
     },
     "execution_count": 64,
     "metadata": {},
     "output_type": "execute_result"
    }
   ],
   "source": [
    "frame = DataFrame(np.random.randn(24,4),\n",
    "                 index=pd.period_range('1-2000','12-2001',freq='M'),\n",
    "                 columns=['Colorado','Texas','New York','Ohio'])\n",
    "frame.head()"
   ]
  },
  {
   "cell_type": "code",
   "execution_count": 65,
   "metadata": {},
   "outputs": [
    {
     "data": {
      "text/plain": [
       "PeriodIndex(['2000-01', '2000-02', '2000-03', '2000-04', '2000-05', '2000-06',\n",
       "             '2000-07', '2000-08', '2000-09', '2000-10', '2000-11', '2000-12',\n",
       "             '2001-01', '2001-02', '2001-03', '2001-04', '2001-05', '2001-06',\n",
       "             '2001-07', '2001-08', '2001-09', '2001-10', '2001-11', '2001-12'],\n",
       "            dtype='period[M]', freq='M')"
      ]
     },
     "execution_count": 65,
     "metadata": {},
     "output_type": "execute_result"
    }
   ],
   "source": [
    "frame.index"
   ]
  },
  {
   "cell_type": "code",
   "execution_count": 67,
   "metadata": {},
   "outputs": [
    {
     "data": {
      "text/html": [
       "<div>\n",
       "<style>\n",
       "    .dataframe thead tr:only-child th {\n",
       "        text-align: right;\n",
       "    }\n",
       "\n",
       "    .dataframe thead th {\n",
       "        text-align: left;\n",
       "    }\n",
       "\n",
       "    .dataframe tbody tr th {\n",
       "        vertical-align: top;\n",
       "    }\n",
       "</style>\n",
       "<table border=\"1\" class=\"dataframe\">\n",
       "  <thead>\n",
       "    <tr style=\"text-align: right;\">\n",
       "      <th></th>\n",
       "      <th>Colorado</th>\n",
       "      <th>Texas</th>\n",
       "      <th>New York</th>\n",
       "      <th>Ohio</th>\n",
       "    </tr>\n",
       "  </thead>\n",
       "  <tbody>\n",
       "    <tr>\n",
       "      <th>2000</th>\n",
       "      <td>-0.214155</td>\n",
       "      <td>0.385625</td>\n",
       "      <td>0.243442</td>\n",
       "      <td>-0.519978</td>\n",
       "    </tr>\n",
       "    <tr>\n",
       "      <th>2001</th>\n",
       "      <td>-0.111339</td>\n",
       "      <td>-0.128711</td>\n",
       "      <td>0.128725</td>\n",
       "      <td>0.259194</td>\n",
       "    </tr>\n",
       "  </tbody>\n",
       "</table>\n",
       "</div>"
      ],
      "text/plain": [
       "      Colorado     Texas  New York      Ohio\n",
       "2000 -0.214155  0.385625  0.243442 -0.519978\n",
       "2001 -0.111339 -0.128711  0.128725  0.259194"
      ]
     },
     "execution_count": 67,
     "metadata": {},
     "output_type": "execute_result"
    }
   ],
   "source": [
    "annual_frame = frame.resample('A-DEC').mean()\n",
    "annual_frame"
   ]
  },
  {
   "cell_type": "code",
   "execution_count": 69,
   "metadata": {},
   "outputs": [
    {
     "data": {
      "text/plain": [
       "DatetimeIndex(['2000-01-01', '2001-01-01'], dtype='datetime64[ns]', freq=None)"
      ]
     },
     "execution_count": 69,
     "metadata": {},
     "output_type": "execute_result"
    }
   ],
   "source": [
    "annual_frame.index.start_time"
   ]
  },
  {
   "cell_type": "code",
   "execution_count": 70,
   "metadata": {},
   "outputs": [
    {
     "data": {
      "text/plain": [
       "DatetimeIndex(['2000-12-31', '2001-12-31'], dtype='datetime64[ns]', freq=None)"
      ]
     },
     "execution_count": 70,
     "metadata": {},
     "output_type": "execute_result"
    }
   ],
   "source": [
    "annual_frame.index.end_time"
   ]
  },
  {
   "cell_type": "code",
   "execution_count": 71,
   "metadata": {},
   "outputs": [
    {
     "data": {
      "text/html": [
       "<div>\n",
       "<style>\n",
       "    .dataframe thead tr:only-child th {\n",
       "        text-align: right;\n",
       "    }\n",
       "\n",
       "    .dataframe thead th {\n",
       "        text-align: left;\n",
       "    }\n",
       "\n",
       "    .dataframe tbody tr th {\n",
       "        vertical-align: top;\n",
       "    }\n",
       "</style>\n",
       "<table border=\"1\" class=\"dataframe\">\n",
       "  <thead>\n",
       "    <tr style=\"text-align: right;\">\n",
       "      <th></th>\n",
       "      <th>Colorado</th>\n",
       "      <th>Texas</th>\n",
       "      <th>New York</th>\n",
       "      <th>Ohio</th>\n",
       "    </tr>\n",
       "  </thead>\n",
       "  <tbody>\n",
       "    <tr>\n",
       "      <th>2000Q1</th>\n",
       "      <td>-0.341548</td>\n",
       "      <td>0.169209</td>\n",
       "      <td>0.523737</td>\n",
       "      <td>-0.339314</td>\n",
       "    </tr>\n",
       "    <tr>\n",
       "      <th>2000Q2</th>\n",
       "      <td>-0.935079</td>\n",
       "      <td>0.248873</td>\n",
       "      <td>-0.354851</td>\n",
       "      <td>0.202453</td>\n",
       "    </tr>\n",
       "    <tr>\n",
       "      <th>2000Q3</th>\n",
       "      <td>0.557422</td>\n",
       "      <td>0.132509</td>\n",
       "      <td>0.431256</td>\n",
       "      <td>-2.016974</td>\n",
       "    </tr>\n",
       "    <tr>\n",
       "      <th>2000Q4</th>\n",
       "      <td>-0.137415</td>\n",
       "      <td>0.991910</td>\n",
       "      <td>0.373626</td>\n",
       "      <td>0.073924</td>\n",
       "    </tr>\n",
       "    <tr>\n",
       "      <th>2001Q1</th>\n",
       "      <td>0.080577</td>\n",
       "      <td>0.104695</td>\n",
       "      <td>-0.565977</td>\n",
       "      <td>0.615500</td>\n",
       "    </tr>\n",
       "    <tr>\n",
       "      <th>2001Q2</th>\n",
       "      <td>-0.507448</td>\n",
       "      <td>0.089342</td>\n",
       "      <td>0.929165</td>\n",
       "      <td>0.465289</td>\n",
       "    </tr>\n",
       "    <tr>\n",
       "      <th>2001Q3</th>\n",
       "      <td>-0.359228</td>\n",
       "      <td>-0.142184</td>\n",
       "      <td>0.027795</td>\n",
       "      <td>-0.413357</td>\n",
       "    </tr>\n",
       "    <tr>\n",
       "      <th>2001Q4</th>\n",
       "      <td>0.340743</td>\n",
       "      <td>-0.566699</td>\n",
       "      <td>0.123916</td>\n",
       "      <td>0.369342</td>\n",
       "    </tr>\n",
       "  </tbody>\n",
       "</table>\n",
       "</div>"
      ],
      "text/plain": [
       "        Colorado     Texas  New York      Ohio\n",
       "2000Q1 -0.341548  0.169209  0.523737 -0.339314\n",
       "2000Q2 -0.935079  0.248873 -0.354851  0.202453\n",
       "2000Q3  0.557422  0.132509  0.431256 -2.016974\n",
       "2000Q4 -0.137415  0.991910  0.373626  0.073924\n",
       "2001Q1  0.080577  0.104695 -0.565977  0.615500\n",
       "2001Q2 -0.507448  0.089342  0.929165  0.465289\n",
       "2001Q3 -0.359228 -0.142184  0.027795 -0.413357\n",
       "2001Q4  0.340743 -0.566699  0.123916  0.369342"
      ]
     },
     "execution_count": 71,
     "metadata": {},
     "output_type": "execute_result"
    }
   ],
   "source": [
    "frame.resample('Q-DEC').mean()"
   ]
  },
  {
   "cell_type": "code",
   "execution_count": 72,
   "metadata": {},
   "outputs": [
    {
     "data": {
      "text/html": [
       "<div>\n",
       "<style>\n",
       "    .dataframe thead tr:only-child th {\n",
       "        text-align: right;\n",
       "    }\n",
       "\n",
       "    .dataframe thead th {\n",
       "        text-align: left;\n",
       "    }\n",
       "\n",
       "    .dataframe tbody tr th {\n",
       "        vertical-align: top;\n",
       "    }\n",
       "</style>\n",
       "<table border=\"1\" class=\"dataframe\">\n",
       "  <thead>\n",
       "    <tr style=\"text-align: right;\">\n",
       "      <th></th>\n",
       "      <th>Colorado</th>\n",
       "      <th>Texas</th>\n",
       "      <th>New York</th>\n",
       "      <th>Ohio</th>\n",
       "    </tr>\n",
       "  </thead>\n",
       "  <tbody>\n",
       "    <tr>\n",
       "      <th>2000Q1</th>\n",
       "      <td>-0.341548</td>\n",
       "      <td>0.169209</td>\n",
       "      <td>0.523737</td>\n",
       "      <td>-0.339314</td>\n",
       "    </tr>\n",
       "    <tr>\n",
       "      <th>2000Q2</th>\n",
       "      <td>-0.935079</td>\n",
       "      <td>0.248873</td>\n",
       "      <td>-0.354851</td>\n",
       "      <td>0.202453</td>\n",
       "    </tr>\n",
       "    <tr>\n",
       "      <th>2000Q3</th>\n",
       "      <td>0.557422</td>\n",
       "      <td>0.132509</td>\n",
       "      <td>0.431256</td>\n",
       "      <td>-2.016974</td>\n",
       "    </tr>\n",
       "    <tr>\n",
       "      <th>2000Q4</th>\n",
       "      <td>-0.137415</td>\n",
       "      <td>0.991910</td>\n",
       "      <td>0.373626</td>\n",
       "      <td>0.073924</td>\n",
       "    </tr>\n",
       "    <tr>\n",
       "      <th>2001Q1</th>\n",
       "      <td>0.080577</td>\n",
       "      <td>0.104695</td>\n",
       "      <td>-0.565977</td>\n",
       "      <td>0.615500</td>\n",
       "    </tr>\n",
       "    <tr>\n",
       "      <th>2001Q2</th>\n",
       "      <td>-0.507448</td>\n",
       "      <td>0.089342</td>\n",
       "      <td>0.929165</td>\n",
       "      <td>0.465289</td>\n",
       "    </tr>\n",
       "    <tr>\n",
       "      <th>2001Q3</th>\n",
       "      <td>-0.359228</td>\n",
       "      <td>-0.142184</td>\n",
       "      <td>0.027795</td>\n",
       "      <td>-0.413357</td>\n",
       "    </tr>\n",
       "    <tr>\n",
       "      <th>2001Q4</th>\n",
       "      <td>0.340743</td>\n",
       "      <td>-0.566699</td>\n",
       "      <td>0.123916</td>\n",
       "      <td>0.369342</td>\n",
       "    </tr>\n",
       "  </tbody>\n",
       "</table>\n",
       "</div>"
      ],
      "text/plain": [
       "        Colorado     Texas  New York      Ohio\n",
       "2000Q1 -0.341548  0.169209  0.523737 -0.339314\n",
       "2000Q2 -0.935079  0.248873 -0.354851  0.202453\n",
       "2000Q3  0.557422  0.132509  0.431256 -2.016974\n",
       "2000Q4 -0.137415  0.991910  0.373626  0.073924\n",
       "2001Q1  0.080577  0.104695 -0.565977  0.615500\n",
       "2001Q2 -0.507448  0.089342  0.929165  0.465289\n",
       "2001Q3 -0.359228 -0.142184  0.027795 -0.413357\n",
       "2001Q4  0.340743 -0.566699  0.123916  0.369342"
      ]
     },
     "execution_count": 72,
     "metadata": {},
     "output_type": "execute_result"
    }
   ],
   "source": [
    "quarter_frame = frame.resample('Q-DEC').mean()\n",
    "quarter_frame"
   ]
  },
  {
   "cell_type": "code",
   "execution_count": 81,
   "metadata": {},
   "outputs": [
    {
     "data": {
      "text/html": [
       "<div>\n",
       "<style>\n",
       "    .dataframe thead tr:only-child th {\n",
       "        text-align: right;\n",
       "    }\n",
       "\n",
       "    .dataframe thead th {\n",
       "        text-align: left;\n",
       "    }\n",
       "\n",
       "    .dataframe tbody tr th {\n",
       "        vertical-align: top;\n",
       "    }\n",
       "</style>\n",
       "<table border=\"1\" class=\"dataframe\">\n",
       "  <thead>\n",
       "    <tr style=\"text-align: right;\">\n",
       "      <th></th>\n",
       "      <th>Colorado</th>\n",
       "      <th>Texas</th>\n",
       "      <th>New York</th>\n",
       "      <th>Ohio</th>\n",
       "    </tr>\n",
       "  </thead>\n",
       "  <tbody>\n",
       "    <tr>\n",
       "      <th>2000Q1</th>\n",
       "      <td>-0.798178</td>\n",
       "      <td>0.770727</td>\n",
       "      <td>0.256783</td>\n",
       "      <td>0.141890</td>\n",
       "    </tr>\n",
       "    <tr>\n",
       "      <th>2000Q2</th>\n",
       "      <td>-0.296725</td>\n",
       "      <td>-0.226966</td>\n",
       "      <td>0.498060</td>\n",
       "      <td>-0.573514</td>\n",
       "    </tr>\n",
       "    <tr>\n",
       "      <th>2000Q3</th>\n",
       "      <td>0.013683</td>\n",
       "      <td>0.074909</td>\n",
       "      <td>-0.349821</td>\n",
       "      <td>-1.031029</td>\n",
       "    </tr>\n",
       "    <tr>\n",
       "      <th>2000Q4</th>\n",
       "      <td>0.214659</td>\n",
       "      <td>0.751026</td>\n",
       "      <td>0.759573</td>\n",
       "      <td>-0.770669</td>\n",
       "    </tr>\n",
       "    <tr>\n",
       "      <th>2001Q1</th>\n",
       "      <td>0.024377</td>\n",
       "      <td>0.672133</td>\n",
       "      <td>-0.396729</td>\n",
       "      <td>0.826657</td>\n",
       "    </tr>\n",
       "    <tr>\n",
       "      <th>2001Q2</th>\n",
       "      <td>-0.617604</td>\n",
       "      <td>0.244367</td>\n",
       "      <td>0.603845</td>\n",
       "      <td>0.161183</td>\n",
       "    </tr>\n",
       "    <tr>\n",
       "      <th>2001Q3</th>\n",
       "      <td>-0.077651</td>\n",
       "      <td>-0.685773</td>\n",
       "      <td>-0.028136</td>\n",
       "      <td>-0.132432</td>\n",
       "    </tr>\n",
       "    <tr>\n",
       "      <th>2001Q4</th>\n",
       "      <td>-0.244487</td>\n",
       "      <td>-0.399375</td>\n",
       "      <td>0.267899</td>\n",
       "      <td>0.608595</td>\n",
       "    </tr>\n",
       "    <tr>\n",
       "      <th>2002Q1</th>\n",
       "      <td>0.641671</td>\n",
       "      <td>0.250547</td>\n",
       "      <td>-0.111630</td>\n",
       "      <td>-0.679564</td>\n",
       "    </tr>\n",
       "  </tbody>\n",
       "</table>\n",
       "</div>"
      ],
      "text/plain": [
       "        Colorado     Texas  New York      Ohio\n",
       "2000Q1 -0.798178  0.770727  0.256783  0.141890\n",
       "2000Q2 -0.296725 -0.226966  0.498060 -0.573514\n",
       "2000Q3  0.013683  0.074909 -0.349821 -1.031029\n",
       "2000Q4  0.214659  0.751026  0.759573 -0.770669\n",
       "2001Q1  0.024377  0.672133 -0.396729  0.826657\n",
       "2001Q2 -0.617604  0.244367  0.603845  0.161183\n",
       "2001Q3 -0.077651 -0.685773 -0.028136 -0.132432\n",
       "2001Q4 -0.244487 -0.399375  0.267899  0.608595\n",
       "2002Q1  0.641671  0.250547 -0.111630 -0.679564"
      ]
     },
     "execution_count": 81,
     "metadata": {},
     "output_type": "execute_result"
    }
   ],
   "source": [
    "quarter_frame = frame.resample('Q-NOV').mean()\n",
    "quarter_frame"
   ]
  },
  {
   "cell_type": "code",
   "execution_count": 83,
   "metadata": {
    "collapsed": true
   },
   "outputs": [],
   "source": [
    "# 一些讲解：\n",
    "# - 在降采样中，目标频率必须是源频率的子时期（subperiod）。降采样 <-> 高频到低频\n",
    "# - 在升采样中，目标频率必须是源频率的超时期（superperiod）。升采样 <-> 低频到高频\n",
    "# - 如果不满足这些条件，就会引发异常。这主要影响的是按季、年、周计算的频率。\n",
    "#   例如，由Q-MAR定义的时间区间只能升采样为A-MAR、A-JUN、A-SEP、A-DEC等。(有问题自己慢慢琢磨吧...)"
   ]
  }
 ],
 "metadata": {
  "kernelspec": {
   "display_name": "Python 3",
   "language": "python",
   "name": "python3"
  },
  "language_info": {
   "codemirror_mode": {
    "name": "ipython",
    "version": 3
   },
   "file_extension": ".py",
   "mimetype": "text/x-python",
   "name": "python",
   "nbconvert_exporter": "python",
   "pygments_lexer": "ipython3",
   "version": "3.6.1"
  }
 },
 "nbformat": 4,
 "nbformat_minor": 2
}
